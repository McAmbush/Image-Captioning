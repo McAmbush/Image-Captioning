{
  "nbformat": 4,
  "nbformat_minor": 0,
  "metadata": {
    "colab": {
      "name": "Image Caption Inference InceptionV3.ipynb",
      "provenance": []
    },
    "kernelspec": {
      "name": "python3",
      "display_name": "Python 3"
    },
    "accelerator": "GPU"
  },
  "cells": [
    {
      "cell_type": "code",
      "metadata": {
        "id": "gweS9CscSj_o",
        "colab_type": "code",
        "colab": {}
      },
      "source": [
        "!mkdir -p ~/.kaggle"
      ],
      "execution_count": null,
      "outputs": []
    },
    {
      "cell_type": "code",
      "metadata": {
        "id": "V7S68iz5U5HH",
        "colab_type": "code",
        "colab": {}
      },
      "source": [
        "!cp kaggle\\(2\\).json ~/.kaggle/kaggle.json"
      ],
      "execution_count": null,
      "outputs": []
    },
    {
      "cell_type": "code",
      "metadata": {
        "id": "wjsLo9-IU8kZ",
        "colab_type": "code",
        "colab": {
          "base_uri": "https://localhost:8080/",
          "height": 86
        },
        "outputId": "080560dc-825f-4920-c764-1581ae61eaab"
      },
      "source": [
        "!kaggle datasets download -d shadabhussain/flickr8k"
      ],
      "execution_count": null,
      "outputs": [
        {
          "output_type": "stream",
          "text": [
            "Warning: Your Kaggle API key is readable by other users on this system! To fix this, you can run 'chmod 600 /root/.kaggle/kaggle.json'\n",
            "Downloading flickr8k.zip to /content\n",
            "100% 2.12G/2.13G [00:27<00:00, 33.3MB/s]\n",
            "100% 2.13G/2.13G [00:27<00:00, 83.9MB/s]\n"
          ],
          "name": "stdout"
        }
      ]
    },
    {
      "cell_type": "code",
      "metadata": {
        "id": "YeA0L5pEovyu",
        "colab_type": "code",
        "colab": {}
      },
      "source": [
        "!chmod 600 /root/.kaggle/kaggle.json"
      ],
      "execution_count": null,
      "outputs": []
    },
    {
      "cell_type": "code",
      "metadata": {
        "id": "WG4AIwTZVJoh",
        "colab_type": "code",
        "colab": {
          "base_uri": "https://localhost:8080/",
          "height": 34
        },
        "outputId": "37dae738-ba09-4fe6-8db0-7504fbf3a2b6"
      },
      "source": [
        "from keras.applications.inception_v3 import preprocess_input,InceptionV3"
      ],
      "execution_count": null,
      "outputs": [
        {
          "output_type": "stream",
          "text": [
            "Using TensorFlow backend.\n"
          ],
          "name": "stderr"
        }
      ]
    },
    {
      "cell_type": "code",
      "metadata": {
        "id": "9QNfBEYIXhht",
        "colab_type": "code",
        "colab": {}
      },
      "source": [
        "from keras.preprocessing.image import load_img,img_to_array"
      ],
      "execution_count": null,
      "outputs": []
    },
    {
      "cell_type": "code",
      "metadata": {
        "id": "uLrApq5OXhqJ",
        "colab_type": "code",
        "colab": {}
      },
      "source": [
        "import pandas as pd\n",
        "import numpy as np\n",
        "import glob\n",
        "import cv2\n",
        "import os\n",
        "from keras.preprocessing.sequence import pad_sequences\n",
        "from keras.preprocessing.text import Tokenizer\n",
        "from keras.models import Model\n",
        "from keras.layers import Flatten, Dense, LSTM, Dropout, Embedding, Activation\n",
        "from keras.layers import concatenate, BatchNormalization, Input,GlobalAveragePooling2D\n",
        "from keras.layers.merge import add\n",
        "from keras.utils import to_categorical\n",
        "from keras.applications.inception_v3 import InceptionV3, preprocess_input\n",
        "#from keras.applications.xception import preprocess_input,Xception\n",
        "from keras.utils import plot_model\n",
        "import matplotlib.pyplot as plt\n",
        "import string\n",
        "import time"
      ],
      "execution_count": null,
      "outputs": []
    },
    {
      "cell_type": "code",
      "metadata": {
        "id": "NmGg_hGtn664",
        "colab_type": "code",
        "colab": {}
      },
      "source": [
        "from keras.preprocessing.image import load_img,img_to_array"
      ],
      "execution_count": null,
      "outputs": []
    },
    {
      "cell_type": "code",
      "metadata": {
        "id": "1Ko6JCV1Vg3Z",
        "colab_type": "code",
        "colab": {}
      },
      "source": [
        "!unzip -q flickr8k.zip"
      ],
      "execution_count": null,
      "outputs": []
    },
    {
      "cell_type": "code",
      "metadata": {
        "id": "kHrWUkZzVnv_",
        "colab_type": "code",
        "colab": {}
      },
      "source": [
        "img_pth = '/content/Flickr_Data/Flickr_Data/Images/'"
      ],
      "execution_count": null,
      "outputs": []
    },
    {
      "cell_type": "code",
      "metadata": {
        "id": "6W-TcONon9lN",
        "colab_type": "code",
        "colab": {}
      },
      "source": [
        "train_pth = '/content/Flickr_Data/Flickr_Data/Flickr_TextData/Flickr_8k.trainImages.txt'"
      ],
      "execution_count": null,
      "outputs": []
    },
    {
      "cell_type": "code",
      "metadata": {
        "id": "b931ImFsVTil",
        "colab_type": "code",
        "colab": {}
      },
      "source": [
        "test_pth = '/content/Flickr_Data/Flickr_Data/Flickr_TextData/Flickr_8k.testImages.txt'"
      ],
      "execution_count": null,
      "outputs": []
    },
    {
      "cell_type": "code",
      "metadata": {
        "id": "gZSe7iwlV9pr",
        "colab_type": "code",
        "colab": {}
      },
      "source": [
        "import glob"
      ],
      "execution_count": null,
      "outputs": []
    },
    {
      "cell_type": "code",
      "metadata": {
        "id": "EUpvhgQOoDIr",
        "colab_type": "code",
        "colab": {}
      },
      "source": [
        "trainset = open(train_pth, 'r', encoding = 'utf-8').read().split(\"\\n\")\n",
        "train_img = []\n",
        "for im in glob.glob(img_pth+'*.jpg'):\n",
        "    if im.split('/')[-1] in trainset:\n",
        "        train_img.append(im)"
      ],
      "execution_count": null,
      "outputs": []
    },
    {
      "cell_type": "code",
      "metadata": {
        "id": "5XOEF4t2V7LG",
        "colab_type": "code",
        "colab": {}
      },
      "source": [
        "testset = open(test_pth, 'r', encoding = 'utf-8').read().split(\"\\n\")\n",
        "test_img = []\n",
        "for im in glob.glob(img_pth+'*.jpg'):\n",
        "    if im.split('/')[-1] in testset:\n",
        "        test_img.append(im)"
      ],
      "execution_count": null,
      "outputs": []
    },
    {
      "cell_type": "code",
      "metadata": {
        "id": "MhpFrZZSWC6G",
        "colab_type": "code",
        "colab": {}
      },
      "source": [
        "caps_pth = '/content/Flickr_Data/Flickr_Data/Flickr_TextData/Flickr8k.token.txt'\n",
        "caps  = open(caps_pth, 'r', encoding = 'utf-8').read()"
      ],
      "execution_count": null,
      "outputs": []
    },
    {
      "cell_type": "code",
      "metadata": {
        "id": "dw0Tu2e3WOLm",
        "colab_type": "code",
        "colab": {}
      },
      "source": [
        "def load_caps(caps):\n",
        "    captions = dict()\n",
        "    for cap in caps.split(\"\\n\"):\n",
        "        token = cap.split(\"\\t\")\n",
        "        if len(cap) < 2:\n",
        "            continue\n",
        "        img_id = token[0].split('.')[0]\n",
        "        img_cap = token[1]\n",
        "        if img_id not in captions:\n",
        "            captions[img_id] = []\n",
        "        captions[img_id].append(img_cap)\n",
        "    return captions"
      ],
      "execution_count": null,
      "outputs": []
    },
    {
      "cell_type": "code",
      "metadata": {
        "id": "YLrIJ06gWOOz",
        "colab_type": "code",
        "colab": {}
      },
      "source": [
        "captions = load_caps(caps)"
      ],
      "execution_count": null,
      "outputs": []
    },
    {
      "cell_type": "code",
      "metadata": {
        "id": "nOsjWf3obOUR",
        "colab_type": "code",
        "colab": {
          "base_uri": "https://localhost:8080/",
          "height": 34
        },
        "outputId": "faa0cbdf-c339-4c40-eafb-684c0a824be1"
      },
      "source": [
        "len(captions)"
      ],
      "execution_count": null,
      "outputs": [
        {
          "output_type": "execute_result",
          "data": {
            "text/plain": [
              "8092"
            ]
          },
          "metadata": {
            "tags": []
          },
          "execution_count": 19
        }
      ]
    },
    {
      "cell_type": "code",
      "metadata": {
        "id": "_IY8iMk1WXKF",
        "colab_type": "code",
        "colab": {}
      },
      "source": [
        "from gensim.parsing.preprocessing import remove_stopwords,strip_numeric,strip_punctuation,strip_short"
      ],
      "execution_count": null,
      "outputs": []
    },
    {
      "cell_type": "code",
      "metadata": {
        "id": "q742ljbhWOSA",
        "colab_type": "code",
        "colab": {}
      },
      "source": [
        "def clean_caps(caps):\n",
        "    for key, cap in caps.items():\n",
        "        for i in range(len(cap)):\n",
        "            caption = cap[i]\n",
        "            caption = caption.lower()\n",
        "            caption = strip_punctuation(caption)\n",
        "            caption = strip_numeric(caption)\n",
        "            caption = strip_short(caption,2)\n",
        "            cap[i] = caption"
      ],
      "execution_count": null,
      "outputs": []
    },
    {
      "cell_type": "code",
      "metadata": {
        "id": "iNa1F88aWTDh",
        "colab_type": "code",
        "colab": {}
      },
      "source": [
        "clean_caps(captions)"
      ],
      "execution_count": null,
      "outputs": []
    },
    {
      "cell_type": "code",
      "metadata": {
        "id": "0K4eqOvpWABv",
        "colab_type": "code",
        "colab": {}
      },
      "source": [
        "def load_clean_descriptions(caps, data):\n",
        "    dat = dict()\n",
        "    for key, cap in caps.items():\n",
        "        if key+'.jpg' in data:\n",
        "            if key not in dat:\n",
        "                dat[key] = []\n",
        "            for line in cap:\n",
        "                c = line\n",
        "                dat[key].append(c)\n",
        "    return dat\n",
        "train_caps = load_clean_descriptions(captions, trainset)\n",
        "test_caps = load_clean_descriptions(captions, testset)"
      ],
      "execution_count": null,
      "outputs": []
    },
    {
      "cell_type": "code",
      "metadata": {
        "id": "NkWbJIvTWk8g",
        "colab_type": "code",
        "colab": {}
      },
      "source": [
        "def load_im(img_path):\n",
        "    img = cv2.imread(img_path)\n",
        "    img = cv2.resize(img,(299,299))\n",
        "    x = img_to_array(img)\n",
        "    x = np.expand_dims(x, axis = 0)\n",
        "    x = preprocess_input(x)\n",
        "    return x"
      ],
      "execution_count": null,
      "outputs": []
    },
    {
      "cell_type": "code",
      "metadata": {
        "id": "_CPJ62l3WnLH",
        "colab_type": "code",
        "colab": {
          "base_uri": "https://localhost:8080/",
          "height": 52
        },
        "outputId": "db3c793c-45a4-473e-81c1-b105c1487442"
      },
      "source": [
        "base_model = InceptionV3(weights = 'imagenet',input_shape = (299,299,3))"
      ],
      "execution_count": null,
      "outputs": [
        {
          "output_type": "stream",
          "text": [
            "Downloading data from https://github.com/fchollet/deep-learning-models/releases/download/v0.5/inception_v3_weights_tf_dim_ordering_tf_kernels.h5\n",
            "96116736/96112376 [==============================] - 1s 0us/step\n"
          ],
          "name": "stdout"
        }
      ]
    },
    {
      "cell_type": "code",
      "metadata": {
        "id": "qbEElFyYWoEj",
        "colab_type": "code",
        "colab": {}
      },
      "source": [
        "x = base_model.layers[-2]"
      ],
      "execution_count": null,
      "outputs": []
    },
    {
      "cell_type": "code",
      "metadata": {
        "id": "klkJJMFXWuJy",
        "colab_type": "code",
        "colab": {}
      },
      "source": [
        "from tqdm import tqdm"
      ],
      "execution_count": null,
      "outputs": []
    },
    {
      "cell_type": "code",
      "metadata": {
        "id": "HJTsO7CdWsrd",
        "colab_type": "code",
        "colab": {}
      },
      "source": [
        "encoder = Model(base_model.inputs,x.output)"
      ],
      "execution_count": null,
      "outputs": []
    },
    {
      "cell_type": "code",
      "metadata": {
        "id": "-HClAmOQWtg5",
        "colab_type": "code",
        "colab": {}
      },
      "source": [
        "def encode_img(img):\n",
        "    img = load_im(img)\n",
        "    enc = encoder.predict(img)\n",
        "    enc = np.reshape(enc, (enc.shape[1]))\n",
        "    return enc"
      ],
      "execution_count": null,
      "outputs": []
    },
    {
      "cell_type": "code",
      "metadata": {
        "id": "eD7cGo8eoglt",
        "colab_type": "code",
        "colab": {}
      },
      "source": [
        "train_enc = {}"
      ],
      "execution_count": null,
      "outputs": []
    },
    {
      "cell_type": "code",
      "metadata": {
        "id": "O6tFi-JPuQ71",
        "colab_type": "code",
        "colab": {
          "base_uri": "https://localhost:8080/",
          "height": 364
        },
        "outputId": "e9aff655-7d60-4c82-95b6-6312937c87ef"
      },
      "source": [
        "!nvidia-smi"
      ],
      "execution_count": null,
      "outputs": [
        {
          "output_type": "stream",
          "text": [
            "Sun Jun 28 13:55:09 2020       \n",
            "+-----------------------------------------------------------------------------+\n",
            "| NVIDIA-SMI 450.36.06    Driver Version: 418.67       CUDA Version: 10.1     |\n",
            "|-------------------------------+----------------------+----------------------+\n",
            "| GPU  Name        Persistence-M| Bus-Id        Disp.A | Volatile Uncorr. ECC |\n",
            "| Fan  Temp  Perf  Pwr:Usage/Cap|         Memory-Usage | GPU-Util  Compute M. |\n",
            "|                               |                      |               MIG M. |\n",
            "|===============================+======================+======================|\n",
            "|   0  Tesla K80           Off  | 00000000:00:04.0 Off |                    0 |\n",
            "| N/A   40C    P0    59W / 149W |    385MiB / 11441MiB |      0%      Default |\n",
            "|                               |                      |                 ERR! |\n",
            "+-------------------------------+----------------------+----------------------+\n",
            "                                                                               \n",
            "+-----------------------------------------------------------------------------+\n",
            "| Processes:                                                                  |\n",
            "|  GPU   GI   CI        PID   Type   Process name                  GPU Memory |\n",
            "|        ID   ID                                                   Usage      |\n",
            "|=============================================================================|\n",
            "|  No running processes found                                                 |\n",
            "+-----------------------------------------------------------------------------+\n"
          ],
          "name": "stdout"
        }
      ]
    },
    {
      "cell_type": "code",
      "metadata": {
        "id": "5ETNZWkhoUiA",
        "colab_type": "code",
        "colab": {
          "base_uri": "https://localhost:8080/",
          "height": 34
        },
        "outputId": "9f851157-a8c0-4c47-8d9a-99a3a4a39d5e"
      },
      "source": [
        "for img in tqdm(train_img):\n",
        "    train_enc[img.split('/')[-1]] = encode_img(img)"
      ],
      "execution_count": null,
      "outputs": [
        {
          "output_type": "stream",
          "text": [
            "100%|██████████| 6000/6000 [05:40<00:00, 17.64it/s]\n"
          ],
          "name": "stderr"
        }
      ]
    },
    {
      "cell_type": "code",
      "metadata": {
        "id": "v_x_XYeJW7VH",
        "colab_type": "code",
        "colab": {}
      },
      "source": [
        "test_enc = {}"
      ],
      "execution_count": null,
      "outputs": []
    },
    {
      "cell_type": "code",
      "metadata": {
        "id": "gInsdoTkW8JG",
        "colab_type": "code",
        "colab": {
          "base_uri": "https://localhost:8080/",
          "height": 34
        },
        "outputId": "95f62615-d03e-4c40-8602-d0a4b2517b2b"
      },
      "source": [
        "for img in tqdm(test_img):\n",
        "    test_enc[img.split('/')[-1]] = encode_img(img)"
      ],
      "execution_count": null,
      "outputs": [
        {
          "output_type": "stream",
          "text": [
            "100%|██████████| 1000/1000 [00:54<00:00, 18.37it/s]\n"
          ],
          "name": "stderr"
        }
      ]
    },
    {
      "cell_type": "code",
      "metadata": {
        "id": "OWsRgG16W8RM",
        "colab_type": "code",
        "colab": {}
      },
      "source": [
        "from keras.models import load_model"
      ],
      "execution_count": null,
      "outputs": []
    },
    {
      "cell_type": "code",
      "metadata": {
        "id": "mJaaDEthZoqo",
        "colab_type": "code",
        "colab": {}
      },
      "source": [
        "net = load_model('bdrlstmglb200')"
      ],
      "execution_count": null,
      "outputs": []
    },
    {
      "cell_type": "code",
      "metadata": {
        "id": "ockI2g3WZsHN",
        "colab_type": "code",
        "colab": {
          "base_uri": "https://localhost:8080/",
          "height": 555
        },
        "outputId": "1e8fa8a9-24c2-49c7-d8bf-4c42c1476f81"
      },
      "source": [
        "net.summary()"
      ],
      "execution_count": null,
      "outputs": [
        {
          "output_type": "stream",
          "text": [
            "Model: \"model_18\"\n",
            "__________________________________________________________________________________________________\n",
            "Layer (type)                    Output Shape         Param #     Connected to                     \n",
            "==================================================================================================\n",
            "input_36 (InputLayer)           (None, 35)           0                                            \n",
            "__________________________________________________________________________________________________\n",
            "embedding_17 (Embedding)        (None, 35, 100)      165700      input_36[0][0]                   \n",
            "__________________________________________________________________________________________________\n",
            "input_35 (InputLayer)           (None, 2048)         0                                            \n",
            "__________________________________________________________________________________________________\n",
            "dropout_29 (Dropout)            (None, 35, 100)      0           embedding_17[0][0]               \n",
            "__________________________________________________________________________________________________\n",
            "dropout_28 (Dropout)            (None, 2048)         0           input_35[0][0]                   \n",
            "__________________________________________________________________________________________________\n",
            "lstm_22 (LSTM)                  (None, 35, 128)      117248      dropout_29[0][0]                 \n",
            "__________________________________________________________________________________________________\n",
            "dense_49 (Dense)                (None, 256)          524544      dropout_28[0][0]                 \n",
            "__________________________________________________________________________________________________\n",
            "lstm_23 (LSTM)                  (None, 256)          394240      lstm_22[0][0]                    \n",
            "__________________________________________________________________________________________________\n",
            "concatenate_19 (Concatenate)    (None, 512)          0           dense_49[0][0]                   \n",
            "                                                                 lstm_23[0][0]                    \n",
            "__________________________________________________________________________________________________\n",
            "dense_50 (Dense)                (None, 512)          262656      concatenate_19[0][0]             \n",
            "__________________________________________________________________________________________________\n",
            "dense_51 (Dense)                (None, 1657)         850041      dense_50[0][0]                   \n",
            "==================================================================================================\n",
            "Total params: 2,314,429\n",
            "Trainable params: 2,314,429\n",
            "Non-trainable params: 0\n",
            "__________________________________________________________________________________________________\n"
          ],
          "name": "stdout"
        }
      ]
    },
    {
      "cell_type": "code",
      "metadata": {
        "id": "AQOppIAXuyvH",
        "colab_type": "code",
        "colab": {
          "base_uri": "https://localhost:8080/",
          "height": 34
        },
        "outputId": "6e859fde-04e9-4320-92c5-3ba8ca1bbf44"
      },
      "source": [
        "X1, X2, y = [],[],[]\n",
        "for key, caps in train_caps.items():\n",
        "    pic = train_enc[key + '.jpg']\n",
        "    for cap in caps:\n",
        "        seq = [word_to_idx[word] for word in cap.split(' ') if word in word_to_idx]\n",
        "        for i in range(1, len(seq)):\n",
        "            in_seq, out_seq = seq[:i], seq[i]\n",
        "            in_seq = pad_sequences([in_seq], maxlen = maxm)[0]\n",
        "            out_seq = to_categorical([out_seq], num_classes = vocab_size)[0]\n",
        "            #store\n",
        "            X1.append(pic)\n",
        "            X2.append(in_seq)\n",
        "            y.append(out_seq)\n",
        "\n",
        "X2 = np.array(X2)\n",
        "X1 = np.array(X1)\n",
        "y = np.array(y)\n",
        "print(X1.shape)"
      ],
      "execution_count": null,
      "outputs": [
        {
          "output_type": "stream",
          "text": [
            "(293370, 2048)\n"
          ],
          "name": "stdout"
        }
      ]
    },
    {
      "cell_type": "code",
      "metadata": {
        "id": "kf86KqhgasEk",
        "colab_type": "code",
        "colab": {}
      },
      "source": [
        "from keras.preprocessing.sequence import pad_sequences"
      ],
      "execution_count": null,
      "outputs": []
    },
    {
      "cell_type": "code",
      "metadata": {
        "id": "roZ2-LwaZuc3",
        "colab_type": "code",
        "colab": {}
      },
      "source": [
        "def greedy_search(pic):\n",
        "    start = '<start>'\n",
        "    for i in range(maxm):\n",
        "        seq = [word_to_idx[word] for word in start.split() if word in word_to_idx]\n",
        "        seq = pad_sequences([seq], maxlen = maxm)\n",
        "        yhat = net.predict([pic, seq])\n",
        "        yhat = np.argmax(yhat)\n",
        "        word = idx_to_word[yhat]\n",
        "        start += ' ' + word\n",
        "        if word == '<end>':\n",
        "            break\n",
        "    final = start.split()\n",
        "    final = final[1:-1]\n",
        "    final = ' '.join(final)\n",
        "    return final"
      ],
      "execution_count": null,
      "outputs": []
    },
    {
      "cell_type": "code",
      "metadata": {
        "id": "N42QHoIoZ27H",
        "colab_type": "code",
        "colab": {}
      },
      "source": [
        "maxm = 35"
      ],
      "execution_count": null,
      "outputs": []
    },
    {
      "cell_type": "code",
      "metadata": {
        "id": "zZxfykGPZ5yP",
        "colab_type": "code",
        "colab": {}
      },
      "source": [
        "word_to_idx = {}\n",
        "idx_to_word = {}"
      ],
      "execution_count": null,
      "outputs": []
    },
    {
      "cell_type": "code",
      "metadata": {
        "id": "sE5f7YkJZ8nt",
        "colab_type": "code",
        "colab": {
          "base_uri": "https://localhost:8080/",
          "height": 34
        },
        "outputId": "f88b4682-6522-4030-b988-5d04085392b4"
      },
      "source": [
        "def to_vocab(cap):\n",
        "    words = set()\n",
        "    for key in cap.keys():\n",
        "        for line in cap[key]:\n",
        "            words.update(line.split())\n",
        "    return words\n",
        "vocab = to_vocab(captions)\n",
        "len(vocab)\n"
      ],
      "execution_count": null,
      "outputs": [
        {
          "output_type": "execute_result",
          "data": {
            "text/plain": [
              "8424"
            ]
          },
          "metadata": {
            "tags": []
          },
          "execution_count": 40
        }
      ]
    },
    {
      "cell_type": "code",
      "metadata": {
        "id": "WMb3vy5GaHk1",
        "colab_type": "code",
        "colab": {}
      },
      "source": [
        "train_pth = '/content/Flickr_Data/Flickr_Data/Flickr_TextData/Flickr_8k.trainImages.txt'"
      ],
      "execution_count": null,
      "outputs": []
    },
    {
      "cell_type": "code",
      "metadata": {
        "id": "Wv5KigvbaRvM",
        "colab_type": "code",
        "colab": {}
      },
      "source": [
        "trainset = open(train_pth, 'r', encoding = 'utf-8').read().split(\"\\n\")\n",
        "train_img = []\n",
        "for im in glob.glob(img_pth+'*.jpg'):\n",
        "    if im.split('/')[-1] in trainset:\n",
        "        train_img.append(im)"
      ],
      "execution_count": null,
      "outputs": []
    },
    {
      "cell_type": "code",
      "metadata": {
        "id": "3ARwmctGaSmn",
        "colab_type": "code",
        "colab": {}
      },
      "source": [
        "def load_clean_descriptions(caps, data):\n",
        "    dat = dict()\n",
        "    for key, cap in caps.items():\n",
        "        if key+'.jpg' in data:\n",
        "            if key not in dat:\n",
        "                dat[key] = []\n",
        "            for line in cap:\n",
        "                c = '<start> '+line+' <end>' \n",
        "                dat[key].append(c)\n",
        "    return dat\n",
        "\n",
        "train_caps = load_clean_descriptions(captions, trainset)"
      ],
      "execution_count": null,
      "outputs": []
    },
    {
      "cell_type": "code",
      "metadata": {
        "id": "HAJ-ptt2aVQ-",
        "colab_type": "code",
        "colab": {}
      },
      "source": [
        "train_captions = []\n",
        "for key, caps in train_caps.items():\n",
        "    for cap in caps:\n",
        "        train_captions.append(cap)"
      ],
      "execution_count": null,
      "outputs": []
    },
    {
      "cell_type": "code",
      "metadata": {
        "id": "R819KXFabgBi",
        "colab_type": "code",
        "colab": {
          "base_uri": "https://localhost:8080/",
          "height": 34
        },
        "outputId": "3f0b9f4d-9994-4683-d1cf-759d4336f82b"
      },
      "source": [
        "(min(train_captions,key = len).split())"
      ],
      "execution_count": null,
      "outputs": [
        {
          "output_type": "execute_result",
          "data": {
            "text/plain": [
              "['<start>', 'skier', '<end>']"
            ]
          },
          "metadata": {
            "tags": []
          },
          "execution_count": 50
        }
      ]
    },
    {
      "cell_type": "code",
      "metadata": {
        "id": "2WwVumveaY5D",
        "colab_type": "code",
        "colab": {}
      },
      "source": [
        "vocabulary = vocab\n",
        "thresh = 10\n",
        "word_counts = {}\n",
        "for cap in train_captions:\n",
        "    for word in cap.split(' '):\n",
        "        word_counts[word] = word_counts.get(word, 0) + 1"
      ],
      "execution_count": null,
      "outputs": []
    },
    {
      "cell_type": "code",
      "metadata": {
        "id": "S75D6AxRbjWP",
        "colab_type": "code",
        "colab": {
          "base_uri": "https://localhost:8080/",
          "height": 34
        },
        "outputId": "c2d86556-8b26-4aee-9594-9c74e9cf7b8a"
      },
      "source": [
        "len(word_counts)"
      ],
      "execution_count": null,
      "outputs": [
        {
          "output_type": "execute_result",
          "data": {
            "text/plain": [
              "7320"
            ]
          },
          "metadata": {
            "tags": []
          },
          "execution_count": 52
        }
      ]
    },
    {
      "cell_type": "code",
      "metadata": {
        "id": "taFKbcAUaaDa",
        "colab_type": "code",
        "colab": {}
      },
      "source": [
        "vocab = [word for word in word_counts if word_counts[word] >= thresh]"
      ],
      "execution_count": null,
      "outputs": []
    },
    {
      "cell_type": "code",
      "metadata": {
        "id": "OvBIIfA1aa90",
        "colab_type": "code",
        "colab": {}
      },
      "source": [
        "for idx,word in enumerate(vocab):\n",
        "    word_to_idx[word] = idx+1\n",
        "    idx_to_word[idx+1] = word"
      ],
      "execution_count": null,
      "outputs": []
    },
    {
      "cell_type": "code",
      "metadata": {
        "id": "kVRdUalFacAS",
        "colab_type": "code",
        "colab": {
          "base_uri": "https://localhost:8080/",
          "height": 34
        },
        "outputId": "84bcce86-1905-46a2-8fa8-e1d5772416e8"
      },
      "source": [
        "vocab_size = len(idx_to_word) + 1 \n",
        "vocab_size"
      ],
      "execution_count": null,
      "outputs": [
        {
          "output_type": "execute_result",
          "data": {
            "text/plain": [
              "1657"
            ]
          },
          "metadata": {
            "tags": []
          },
          "execution_count": 55
        }
      ]
    },
    {
      "cell_type": "code",
      "metadata": {
        "id": "6aNq8t6uadyO",
        "colab_type": "code",
        "colab": {}
      },
      "source": [
        "maxm = len(max(train_captions,key = len).split())"
      ],
      "execution_count": null,
      "outputs": []
    },
    {
      "cell_type": "code",
      "metadata": {
        "id": "LNK-TK6vafOi",
        "colab_type": "code",
        "colab": {
          "base_uri": "https://localhost:8080/",
          "height": 34
        },
        "outputId": "1cfd911f-ebd2-4fa7-f6bc-d90dfc1fbbdd"
      },
      "source": [
        "maxm"
      ],
      "execution_count": null,
      "outputs": [
        {
          "output_type": "execute_result",
          "data": {
            "text/plain": [
              "35"
            ]
          },
          "metadata": {
            "tags": []
          },
          "execution_count": 57
        }
      ]
    },
    {
      "cell_type": "code",
      "metadata": {
        "id": "lmmhJBaUalGr",
        "colab_type": "code",
        "colab": {}
      },
      "source": [
        "import matplotlib.pyplot as plt"
      ],
      "execution_count": null,
      "outputs": []
    },
    {
      "cell_type": "code",
      "metadata": {
        "id": "eLmQvsyQafhT",
        "colab_type": "code",
        "colab": {
          "base_uri": "https://localhost:8080/",
          "height": 286
        },
        "outputId": "3aad9e5b-b576-42da-a5a4-8ca31bd1400e"
      },
      "source": [
        "pic = list(test_enc.keys())[250]\n",
        "img = test_enc[pic].reshape(1, 2048)\n",
        "x = plt.imread(img_pth + pic)\n",
        "plt.imshow(x)\n",
        "plt.show()\n",
        "out = greedy_search(img)\n",
        "print(out)"
      ],
      "execution_count": null,
      "outputs": [
        {
          "output_type": "display_data",
          "data": {
            "image/png": "[encoded data removed]",
            "text/plain": [
              "<Figure size 432x288 with 1 Axes>"
            ]
          },
          "metadata": {
            "tags": [],
            "needs_background": "light"
          }
        },
        {
          "output_type": "stream",
          "text": [
            "man in midair on bike\n"
          ],
          "name": "stdout"
        }
      ]
    },
    {
      "cell_type": "code",
      "metadata": {
        "id": "0FrT4HNIcuNO",
        "colab_type": "code",
        "colab": {}
      },
      "source": [
        "b1,b2,b3,b4 = [],[],[],[]"
      ],
      "execution_count": null,
      "outputs": []
    },
    {
      "cell_type": "code",
      "metadata": {
        "id": "8LcshjMBdMHh",
        "colab_type": "code",
        "colab": {
          "base_uri": "https://localhost:8080/",
          "height": 243
        },
        "outputId": "62f6cc21-e13c-4b87-d79a-64d7b8593a4c"
      },
      "source": [
        "for key,enc in tqdm(test_enc.items()):\n",
        "  img = enc.reshape(1,2048)\n",
        "  out = greedy_search(img)\n",
        "  out = out.split()\n",
        "  cap = test_caps[key.split('.')[0]]\n",
        "  cap = [x.split() for x in cap]\n",
        "  b1.append(sentence_bleu(cap,out,(1.0,0,0,0)))\n",
        "  b2.append(sentence_bleu(cap,out,(0.5,0.5,0,0)))\n",
        "  b3.append(sentence_bleu(cap,out,(0.33,0.33,0.33,0)))\n",
        "  b4.append(sentence_bleu(cap,out,(0.25,0.25,0.25,0.25)))"
      ],
      "execution_count": null,
      "outputs": [
        {
          "output_type": "stream",
          "text": [
            "  0%|          | 1/1000 [00:00<15:51,  1.05it/s]/usr/local/lib/python3.6/dist-packages/nltk/translate/bleu_score.py:490: UserWarning: \n",
            "Corpus/Sentence contains 0 counts of 3-gram overlaps.\n",
            "BLEU scores might be undesirable; use SmoothingFunction().\n",
            "  warnings.warn(_msg)\n",
            "  0%|          | 3/1000 [00:02<13:35,  1.22it/s]/usr/local/lib/python3.6/dist-packages/nltk/translate/bleu_score.py:490: UserWarning: \n",
            "Corpus/Sentence contains 0 counts of 4-gram overlaps.\n",
            "BLEU scores might be undesirable; use SmoothingFunction().\n",
            "  warnings.warn(_msg)\n",
            "  0%|          | 5/1000 [00:03<12:13,  1.36it/s]/usr/local/lib/python3.6/dist-packages/nltk/translate/bleu_score.py:490: UserWarning: \n",
            "Corpus/Sentence contains 0 counts of 2-gram overlaps.\n",
            "BLEU scores might be undesirable; use SmoothingFunction().\n",
            "  warnings.warn(_msg)\n",
            "100%|██████████| 1000/1000 [12:58<00:00,  1.28it/s]\n"
          ],
          "name": "stderr"
        }
      ]
    },
    {
      "cell_type": "code",
      "metadata": {
        "id": "tkcz_bLved_c",
        "colab_type": "code",
        "colab": {
          "base_uri": "https://localhost:8080/",
          "height": 34
        },
        "outputId": "c2b20c3f-671c-4007-ba7d-a1ec0a403e2b"
      },
      "source": [
        ""
      ],
      "execution_count": null,
      "outputs": [
        {
          "output_type": "execute_result",
          "data": {
            "text/plain": [
              "0.44242575507948434"
            ]
          },
          "metadata": {
            "tags": []
          },
          "execution_count": 71
        }
      ]
    },
    {
      "cell_type": "code",
      "metadata": {
        "id": "7lyQf87ne_mY",
        "colab_type": "code",
        "colab": {}
      },
      "source": [
        "from keras.utils import plot_model"
      ],
      "execution_count": null,
      "outputs": []
    },
    {
      "cell_type": "code",
      "metadata": {
        "id": "rwUOZgEsfBWR",
        "colab_type": "code",
        "colab": {
          "base_uri": "https://localhost:8080/",
          "height": 758
        },
        "outputId": "3e2a9bf6-4e4e-4071-e1c9-47c1e1a3b574"
      },
      "source": [
        "plot_model(net)"
      ],
      "execution_count": null,
      "outputs": [
        {
          "output_type": "execute_result",
          "data": {
            "image/png": "[encoded data removed]",
            "text/plain": [
              "<IPython.core.display.Image object>"
            ]
          },
          "metadata": {
            "tags": []
          },
          "execution_count": 115
        }
      ]
    },
    {
      "cell_type": "code",
      "metadata": {
        "id": "wlIG8y8ihpRQ",
        "colab_type": "code",
        "colab": {}
      },
      "source": [
        ""
      ],
      "execution_count": null,
      "outputs": []
    }
  ]
}