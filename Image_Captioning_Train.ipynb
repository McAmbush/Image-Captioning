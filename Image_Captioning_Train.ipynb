{
  "nbformat": 4,
  "nbformat_minor": 0,
  "metadata": {
    "colab": {
      "name": "Image Captioning Train.ipynb",
      "provenance": [],
      "collapsed_sections": []
    },
    "kernelspec": {
      "name": "python3",
      "display_name": "Python 3"
    },
    "accelerator": "GPU",
    "widgets": {
      "application/vnd.jupyter.widget-state+json": {
        "78b28e3b467643c496480e4abdb3eb1e": {
          "model_module": "@jupyter-widgets/controls",
          "model_name": "HBoxModel",
          "state": {
            "_view_name": "HBoxView",
            "_dom_classes": [],
            "_model_name": "HBoxModel",
            "_view_module": "@jupyter-widgets/controls",
            "_model_module_version": "1.5.0",
            "_view_count": null,
            "_view_module_version": "1.5.0",
            "box_style": "",
            "layout": "IPY_MODEL_537b54359de7444db8cfad206cadbf0d",
            "_model_module": "@jupyter-widgets/controls",
            "children": [
              "IPY_MODEL_a53f200a7f9643269ba7d0409723e610",
              "IPY_MODEL_d7ff8c5e2c4e4a6a986c350efb2ffe8d"
            ]
          }
        },
        "537b54359de7444db8cfad206cadbf0d": {
          "model_module": "@jupyter-widgets/base",
          "model_name": "LayoutModel",
          "state": {
            "_view_name": "LayoutView",
            "grid_template_rows": null,
            "right": null,
            "justify_content": null,
            "_view_module": "@jupyter-widgets/base",
            "overflow": null,
            "_model_module_version": "1.2.0",
            "_view_count": null,
            "flex_flow": null,
            "width": null,
            "min_width": null,
            "border": null,
            "align_items": null,
            "bottom": null,
            "_model_module": "@jupyter-widgets/base",
            "top": null,
            "grid_column": null,
            "overflow_y": null,
            "overflow_x": null,
            "grid_auto_flow": null,
            "grid_area": null,
            "grid_template_columns": null,
            "flex": null,
            "_model_name": "LayoutModel",
            "justify_items": null,
            "grid_row": null,
            "max_height": null,
            "align_content": null,
            "visibility": null,
            "align_self": null,
            "height": null,
            "min_height": null,
            "padding": null,
            "grid_auto_rows": null,
            "grid_gap": null,
            "max_width": null,
            "order": null,
            "_view_module_version": "1.2.0",
            "grid_template_areas": null,
            "object_position": null,
            "object_fit": null,
            "grid_auto_columns": null,
            "margin": null,
            "display": null,
            "left": null
          }
        },
        "a53f200a7f9643269ba7d0409723e610": {
          "model_module": "@jupyter-widgets/controls",
          "model_name": "FloatProgressModel",
          "state": {
            "_view_name": "ProgressView",
            "style": "IPY_MODEL_f0c1c6744ede4f20bbc20853f60ad049",
            "_dom_classes": [],
            "description": "100%",
            "_model_name": "FloatProgressModel",
            "bar_style": "success",
            "max": 6000,
            "_view_module": "@jupyter-widgets/controls",
            "_model_module_version": "1.5.0",
            "value": 6000,
            "_view_count": null,
            "_view_module_version": "1.5.0",
            "orientation": "horizontal",
            "min": 0,
            "description_tooltip": null,
            "_model_module": "@jupyter-widgets/controls",
            "layout": "IPY_MODEL_75a965384ac14525aee6708caa1af250"
          }
        },
        "d7ff8c5e2c4e4a6a986c350efb2ffe8d": {
          "model_module": "@jupyter-widgets/controls",
          "model_name": "HTMLModel",
          "state": {
            "_view_name": "HTMLView",
            "style": "IPY_MODEL_9c5bbc3a8f364a5f8f7d312c1248c4c0",
            "_dom_classes": [],
            "description": "",
            "_model_name": "HTMLModel",
            "placeholder": "​",
            "_view_module": "@jupyter-widgets/controls",
            "_model_module_version": "1.5.0",
            "value": " 6000/6000 [05:44&lt;00:00, 17.39it/s]",
            "_view_count": null,
            "_view_module_version": "1.5.0",
            "description_tooltip": null,
            "_model_module": "@jupyter-widgets/controls",
            "layout": "IPY_MODEL_4ef39e4943f74c30a0987d8a6374ff05"
          }
        },
        "f0c1c6744ede4f20bbc20853f60ad049": {
          "model_module": "@jupyter-widgets/controls",
          "model_name": "ProgressStyleModel",
          "state": {
            "_view_name": "StyleView",
            "_model_name": "ProgressStyleModel",
            "description_width": "initial",
            "_view_module": "@jupyter-widgets/base",
            "_model_module_version": "1.5.0",
            "_view_count": null,
            "_view_module_version": "1.2.0",
            "bar_color": null,
            "_model_module": "@jupyter-widgets/controls"
          }
        },
        "75a965384ac14525aee6708caa1af250": {
          "model_module": "@jupyter-widgets/base",
          "model_name": "LayoutModel",
          "state": {
            "_view_name": "LayoutView",
            "grid_template_rows": null,
            "right": null,
            "justify_content": null,
            "_view_module": "@jupyter-widgets/base",
            "overflow": null,
            "_model_module_version": "1.2.0",
            "_view_count": null,
            "flex_flow": null,
            "width": null,
            "min_width": null,
            "border": null,
            "align_items": null,
            "bottom": null,
            "_model_module": "@jupyter-widgets/base",
            "top": null,
            "grid_column": null,
            "overflow_y": null,
            "overflow_x": null,
            "grid_auto_flow": null,
            "grid_area": null,
            "grid_template_columns": null,
            "flex": null,
            "_model_name": "LayoutModel",
            "justify_items": null,
            "grid_row": null,
            "max_height": null,
            "align_content": null,
            "visibility": null,
            "align_self": null,
            "height": null,
            "min_height": null,
            "padding": null,
            "grid_auto_rows": null,
            "grid_gap": null,
            "max_width": null,
            "order": null,
            "_view_module_version": "1.2.0",
            "grid_template_areas": null,
            "object_position": null,
            "object_fit": null,
            "grid_auto_columns": null,
            "margin": null,
            "display": null,
            "left": null
          }
        },
        "9c5bbc3a8f364a5f8f7d312c1248c4c0": {
          "model_module": "@jupyter-widgets/controls",
          "model_name": "DescriptionStyleModel",
          "state": {
            "_view_name": "StyleView",
            "_model_name": "DescriptionStyleModel",
            "description_width": "",
            "_view_module": "@jupyter-widgets/base",
            "_model_module_version": "1.5.0",
            "_view_count": null,
            "_view_module_version": "1.2.0",
            "_model_module": "@jupyter-widgets/controls"
          }
        },
        "4ef39e4943f74c30a0987d8a6374ff05": {
          "model_module": "@jupyter-widgets/base",
          "model_name": "LayoutModel",
          "state": {
            "_view_name": "LayoutView",
            "grid_template_rows": null,
            "right": null,
            "justify_content": null,
            "_view_module": "@jupyter-widgets/base",
            "overflow": null,
            "_model_module_version": "1.2.0",
            "_view_count": null,
            "flex_flow": null,
            "width": null,
            "min_width": null,
            "border": null,
            "align_items": null,
            "bottom": null,
            "_model_module": "@jupyter-widgets/base",
            "top": null,
            "grid_column": null,
            "overflow_y": null,
            "overflow_x": null,
            "grid_auto_flow": null,
            "grid_area": null,
            "grid_template_columns": null,
            "flex": null,
            "_model_name": "LayoutModel",
            "justify_items": null,
            "grid_row": null,
            "max_height": null,
            "align_content": null,
            "visibility": null,
            "align_self": null,
            "height": null,
            "min_height": null,
            "padding": null,
            "grid_auto_rows": null,
            "grid_gap": null,
            "max_width": null,
            "order": null,
            "_view_module_version": "1.2.0",
            "grid_template_areas": null,
            "object_position": null,
            "object_fit": null,
            "grid_auto_columns": null,
            "margin": null,
            "display": null,
            "left": null
          }
        },
        "81ebb04d1fc04f98a3115d2ee7a4f4c9": {
          "model_module": "@jupyter-widgets/controls",
          "model_name": "HBoxModel",
          "state": {
            "_view_name": "HBoxView",
            "_dom_classes": [],
            "_model_name": "HBoxModel",
            "_view_module": "@jupyter-widgets/controls",
            "_model_module_version": "1.5.0",
            "_view_count": null,
            "_view_module_version": "1.5.0",
            "box_style": "",
            "layout": "IPY_MODEL_9fc34dfd130341c29a7167c4a7c9c83f",
            "_model_module": "@jupyter-widgets/controls",
            "children": [
              "IPY_MODEL_7ead33360a234f1dbd97f915e50ce674",
              "IPY_MODEL_acb46d4a4d4e4bd8b0163c254513c6f3"
            ]
          }
        },
        "9fc34dfd130341c29a7167c4a7c9c83f": {
          "model_module": "@jupyter-widgets/base",
          "model_name": "LayoutModel",
          "state": {
            "_view_name": "LayoutView",
            "grid_template_rows": null,
            "right": null,
            "justify_content": null,
            "_view_module": "@jupyter-widgets/base",
            "overflow": null,
            "_model_module_version": "1.2.0",
            "_view_count": null,
            "flex_flow": null,
            "width": null,
            "min_width": null,
            "border": null,
            "align_items": null,
            "bottom": null,
            "_model_module": "@jupyter-widgets/base",
            "top": null,
            "grid_column": null,
            "overflow_y": null,
            "overflow_x": null,
            "grid_auto_flow": null,
            "grid_area": null,
            "grid_template_columns": null,
            "flex": null,
            "_model_name": "LayoutModel",
            "justify_items": null,
            "grid_row": null,
            "max_height": null,
            "align_content": null,
            "visibility": null,
            "align_self": null,
            "height": null,
            "min_height": null,
            "padding": null,
            "grid_auto_rows": null,
            "grid_gap": null,
            "max_width": null,
            "order": null,
            "_view_module_version": "1.2.0",
            "grid_template_areas": null,
            "object_position": null,
            "object_fit": null,
            "grid_auto_columns": null,
            "margin": null,
            "display": null,
            "left": null
          }
        },
        "7ead33360a234f1dbd97f915e50ce674": {
          "model_module": "@jupyter-widgets/controls",
          "model_name": "FloatProgressModel",
          "state": {
            "_view_name": "ProgressView",
            "style": "IPY_MODEL_479d6f2b48634703abe61e1c4946ed8d",
            "_dom_classes": [],
            "description": "100%",
            "_model_name": "FloatProgressModel",
            "bar_style": "success",
            "max": 1000,
            "_view_module": "@jupyter-widgets/controls",
            "_model_module_version": "1.5.0",
            "value": 1000,
            "_view_count": null,
            "_view_module_version": "1.5.0",
            "orientation": "horizontal",
            "min": 0,
            "description_tooltip": null,
            "_model_module": "@jupyter-widgets/controls",
            "layout": "IPY_MODEL_a58545dd1a4748779ac33141ebe1d70c"
          }
        },
        "acb46d4a4d4e4bd8b0163c254513c6f3": {
          "model_module": "@jupyter-widgets/controls",
          "model_name": "HTMLModel",
          "state": {
            "_view_name": "HTMLView",
            "style": "IPY_MODEL_3b6dc9645af14a558b405f2b92b78745",
            "_dom_classes": [],
            "description": "",
            "_model_name": "HTMLModel",
            "placeholder": "​",
            "_view_module": "@jupyter-widgets/controls",
            "_model_module_version": "1.5.0",
            "value": " 1000/1000 [00:56&lt;00:00, 17.84it/s]",
            "_view_count": null,
            "_view_module_version": "1.5.0",
            "description_tooltip": null,
            "_model_module": "@jupyter-widgets/controls",
            "layout": "IPY_MODEL_54fbcb6574f243ba8e4aa076ef32c423"
          }
        },
        "479d6f2b48634703abe61e1c4946ed8d": {
          "model_module": "@jupyter-widgets/controls",
          "model_name": "ProgressStyleModel",
          "state": {
            "_view_name": "StyleView",
            "_model_name": "ProgressStyleModel",
            "description_width": "initial",
            "_view_module": "@jupyter-widgets/base",
            "_model_module_version": "1.5.0",
            "_view_count": null,
            "_view_module_version": "1.2.0",
            "bar_color": null,
            "_model_module": "@jupyter-widgets/controls"
          }
        },
        "a58545dd1a4748779ac33141ebe1d70c": {
          "model_module": "@jupyter-widgets/base",
          "model_name": "LayoutModel",
          "state": {
            "_view_name": "LayoutView",
            "grid_template_rows": null,
            "right": null,
            "justify_content": null,
            "_view_module": "@jupyter-widgets/base",
            "overflow": null,
            "_model_module_version": "1.2.0",
            "_view_count": null,
            "flex_flow": null,
            "width": null,
            "min_width": null,
            "border": null,
            "align_items": null,
            "bottom": null,
            "_model_module": "@jupyter-widgets/base",
            "top": null,
            "grid_column": null,
            "overflow_y": null,
            "overflow_x": null,
            "grid_auto_flow": null,
            "grid_area": null,
            "grid_template_columns": null,
            "flex": null,
            "_model_name": "LayoutModel",
            "justify_items": null,
            "grid_row": null,
            "max_height": null,
            "align_content": null,
            "visibility": null,
            "align_self": null,
            "height": null,
            "min_height": null,
            "padding": null,
            "grid_auto_rows": null,
            "grid_gap": null,
            "max_width": null,
            "order": null,
            "_view_module_version": "1.2.0",
            "grid_template_areas": null,
            "object_position": null,
            "object_fit": null,
            "grid_auto_columns": null,
            "margin": null,
            "display": null,
            "left": null
          }
        },
        "3b6dc9645af14a558b405f2b92b78745": {
          "model_module": "@jupyter-widgets/controls",
          "model_name": "DescriptionStyleModel",
          "state": {
            "_view_name": "StyleView",
            "_model_name": "DescriptionStyleModel",
            "description_width": "",
            "_view_module": "@jupyter-widgets/base",
            "_model_module_version": "1.5.0",
            "_view_count": null,
            "_view_module_version": "1.2.0",
            "_model_module": "@jupyter-widgets/controls"
          }
        },
        "54fbcb6574f243ba8e4aa076ef32c423": {
          "model_module": "@jupyter-widgets/base",
          "model_name": "LayoutModel",
          "state": {
            "_view_name": "LayoutView",
            "grid_template_rows": null,
            "right": null,
            "justify_content": null,
            "_view_module": "@jupyter-widgets/base",
            "overflow": null,
            "_model_module_version": "1.2.0",
            "_view_count": null,
            "flex_flow": null,
            "width": null,
            "min_width": null,
            "border": null,
            "align_items": null,
            "bottom": null,
            "_model_module": "@jupyter-widgets/base",
            "top": null,
            "grid_column": null,
            "overflow_y": null,
            "overflow_x": null,
            "grid_auto_flow": null,
            "grid_area": null,
            "grid_template_columns": null,
            "flex": null,
            "_model_name": "LayoutModel",
            "justify_items": null,
            "grid_row": null,
            "max_height": null,
            "align_content": null,
            "visibility": null,
            "align_self": null,
            "height": null,
            "min_height": null,
            "padding": null,
            "grid_auto_rows": null,
            "grid_gap": null,
            "max_width": null,
            "order": null,
            "_view_module_version": "1.2.0",
            "grid_template_areas": null,
            "object_position": null,
            "object_fit": null,
            "grid_auto_columns": null,
            "margin": null,
            "display": null,
            "left": null
          }
        }
      }
    }
  },
  "cells": [
    {
      "cell_type": "code",
      "metadata": {
        "id": "5stMlsQA-DC5",
        "colab_type": "code",
        "colab": {
          "base_uri": "https://localhost:8080/",
          "height": 364
        },
        "outputId": "3574870c-9e22-4bc5-986f-3b9ca08c0eb4"
      },
      "source": [
        "!nvidia-smi"
      ],
      "execution_count": null,
      "outputs": [
        {
          "output_type": "stream",
          "text": [
            "Sun Jun 28 07:03:59 2020       \n",
            "+-----------------------------------------------------------------------------+\n",
            "| NVIDIA-SMI 450.36.06    Driver Version: 418.67       CUDA Version: 10.1     |\n",
            "|-------------------------------+----------------------+----------------------+\n",
            "| GPU  Name        Persistence-M| Bus-Id        Disp.A | Volatile Uncorr. ECC |\n",
            "| Fan  Temp  Perf  Pwr:Usage/Cap|         Memory-Usage | GPU-Util  Compute M. |\n",
            "|                               |                      |               MIG M. |\n",
            "|===============================+======================+======================|\n",
            "|   0  Tesla K80           Off  | 00000000:00:04.0 Off |                    0 |\n",
            "| N/A   62C    P8    31W / 149W |      0MiB / 11441MiB |      0%      Default |\n",
            "|                               |                      |                 ERR! |\n",
            "+-------------------------------+----------------------+----------------------+\n",
            "                                                                               \n",
            "+-----------------------------------------------------------------------------+\n",
            "| Processes:                                                                  |\n",
            "|  GPU   GI   CI        PID   Type   Process name                  GPU Memory |\n",
            "|        ID   ID                                                   Usage      |\n",
            "|=============================================================================|\n",
            "|  No running processes found                                                 |\n",
            "+-----------------------------------------------------------------------------+\n"
          ],
          "name": "stdout"
        }
      ]
    },
    {
      "cell_type": "code",
      "metadata": {
        "id": "WHBfMlON2bWN",
        "colab_type": "code",
        "colab": {}
      },
      "source": [
        "!mkdir -p ~/.kaggle"
      ],
      "execution_count": null,
      "outputs": []
    },
    {
      "cell_type": "code",
      "metadata": {
        "id": "4DCxtxXt-IVZ",
        "colab_type": "code",
        "colab": {}
      },
      "source": [
        "!cp kaggle\\(2\\).json ~/.kaggle/kaggle.json"
      ],
      "execution_count": null,
      "outputs": []
    },
    {
      "cell_type": "code",
      "metadata": {
        "id": "gYl_K1Ib-NZs",
        "colab_type": "code",
        "colab": {
          "base_uri": "https://localhost:8080/",
          "height": 86
        },
        "outputId": "287e19cc-6b7f-406b-9a4e-ef47934f69a8"
      },
      "source": [
        "!kaggle datasets download -d shadabhussain/flickr8k"
      ],
      "execution_count": null,
      "outputs": [
        {
          "output_type": "stream",
          "text": [
            "Warning: Your Kaggle API key is readable by other users on this system! To fix this, you can run 'chmod 600 /root/.kaggle/kaggle.json'\n",
            "Downloading flickr8k.zip to /content\n",
            "100% 2.13G/2.13G [00:57<00:00, 37.2MB/s]\n",
            "100% 2.13G/2.13G [00:57<00:00, 39.5MB/s]\n"
          ],
          "name": "stdout"
        }
      ]
    },
    {
      "cell_type": "code",
      "metadata": {
        "id": "H8FIsNO3-PpS",
        "colab_type": "code",
        "colab": {}
      },
      "source": [
        "!chmod 600 /root/.kaggle/kaggle.json"
      ],
      "execution_count": null,
      "outputs": []
    },
    {
      "cell_type": "code",
      "metadata": {
        "id": "4AJo-k-o-Ra3",
        "colab_type": "code",
        "colab": {
          "base_uri": "https://localhost:8080/",
          "height": 34
        },
        "outputId": "013f47e9-2197-4a15-d4d8-e086c364223d"
      },
      "source": [
        "import pandas as pd\n",
        "import numpy as np\n",
        "import glob\n",
        "import cv2\n",
        "import os\n",
        "from keras.preprocessing.sequence import pad_sequences\n",
        "from keras.preprocessing.text import Tokenizer\n",
        "from keras.models import Model\n",
        "from keras.layers import Flatten, Dense, LSTM, Dropout, Embedding, Activation\n",
        "from keras.layers import concatenate, BatchNormalization, Input,GlobalAveragePooling2D\n",
        "from keras.layers.merge import add\n",
        "from keras.utils import to_categorical\n",
        "#from keras.applications.inception_v3 import InceptionV3, preprocess_input\n",
        "#from keras.applications.xception import preprocess_input,Xception\n",
        "from keras.applications.resnet import ResNet101\n",
        "from keras.utils import plot_model\n",
        "import matplotlib.pyplot as plt\n",
        "import string\n",
        "import time"
      ],
      "execution_count": null,
      "outputs": [
        {
          "output_type": "stream",
          "text": [
            "Using TensorFlow backend.\n"
          ],
          "name": "stderr"
        }
      ]
    },
    {
      "cell_type": "code",
      "metadata": {
        "id": "W18BP5zGpl8r",
        "colab_type": "code",
        "colab": {}
      },
      "source": [
        "from keras.applications.inception_v3 import InceptionV3, preprocess_input"
      ],
      "execution_count": null,
      "outputs": []
    },
    {
      "cell_type": "code",
      "metadata": {
        "id": "_kpZcNHBmNeD",
        "colab_type": "code",
        "colab": {}
      },
      "source": [
        "from keras.layers import GRU,Bidirectional"
      ],
      "execution_count": null,
      "outputs": []
    },
    {
      "cell_type": "code",
      "metadata": {
        "id": "3AHalkQH-bx4",
        "colab_type": "code",
        "colab": {}
      },
      "source": [
        "!unzip -q flickr8k.zip"
      ],
      "execution_count": null,
      "outputs": []
    },
    {
      "cell_type": "code",
      "metadata": {
        "id": "g5ZVnA0m-haK",
        "colab_type": "code",
        "colab": {}
      },
      "source": [
        "img_pth = '/content/Flickr_Data/Flickr_Data/Images/'\n",
        "train_pth = '/content/Flickr_Data/Flickr_Data/Flickr_TextData/Flickr_8k.trainImages.txt'\n",
        "test_pth = '/content/Flickr_Data/Flickr_Data/Flickr_TextData/Flickr_8k.testImages.txt'"
      ],
      "execution_count": null,
      "outputs": []
    },
    {
      "cell_type": "code",
      "metadata": {
        "id": "ELzRLXhu-kY5",
        "colab_type": "code",
        "colab": {}
      },
      "source": [
        "import glob"
      ],
      "execution_count": null,
      "outputs": []
    },
    {
      "cell_type": "code",
      "metadata": {
        "id": "e5EuGVhm-l3r",
        "colab_type": "code",
        "colab": {}
      },
      "source": [
        "trainset = open(train_pth, 'r', encoding = 'utf-8').read().split(\"\\n\")\n",
        "train_img = []\n",
        "for im in glob.glob(img_pth+'*.jpg'):\n",
        "    if im.split('/')[-1] in trainset:\n",
        "        train_img.append(im)\n",
        "testset = open(test_pth, 'r', encoding = 'utf-8').read().split(\"\\n\")\n",
        "test_img = []\n",
        "for im in glob.glob(img_pth+'*.jpg'):\n",
        "    if im.split('/')[-1] in testset:\n",
        "        test_img.append(im)"
      ],
      "execution_count": null,
      "outputs": []
    },
    {
      "cell_type": "code",
      "metadata": {
        "id": "Gi_8PYsy-oAn",
        "colab_type": "code",
        "colab": {}
      },
      "source": [
        "caps_pth = '/content/Flickr_Data/Flickr_Data/Flickr_TextData/Flickr8k.token.txt'\n",
        "caps  = open(caps_pth, 'r', encoding = 'utf-8').read()"
      ],
      "execution_count": null,
      "outputs": []
    },
    {
      "cell_type": "code",
      "metadata": {
        "id": "aOxa-E-m-pEp",
        "colab_type": "code",
        "colab": {}
      },
      "source": [
        "def load_caps(caps):\n",
        "    captions = dict()\n",
        "    for cap in caps.split(\"\\n\"):\n",
        "        token = cap.split(\"\\t\")\n",
        "        if len(cap) < 2:\n",
        "            continue\n",
        "        img_id = token[0].split('.')[0]\n",
        "        img_cap = token[1]\n",
        "        if img_id not in captions:\n",
        "            captions[img_id] = []\n",
        "        captions[img_id].append(img_cap)\n",
        "    return captions"
      ],
      "execution_count": null,
      "outputs": []
    },
    {
      "cell_type": "code",
      "metadata": {
        "id": "LDGHoh0q-p6c",
        "colab_type": "code",
        "colab": {}
      },
      "source": [
        "captions = load_caps(caps)"
      ],
      "execution_count": null,
      "outputs": []
    },
    {
      "cell_type": "code",
      "metadata": {
        "id": "6zVDmJH_-rXR",
        "colab_type": "code",
        "colab": {}
      },
      "source": [
        "from gensim.parsing.preprocessing import remove_stopwords,strip_numeric,strip_punctuation,strip_short"
      ],
      "execution_count": null,
      "outputs": []
    },
    {
      "cell_type": "code",
      "metadata": {
        "id": "bHSSMf2j-tkG",
        "colab_type": "code",
        "colab": {}
      },
      "source": [
        "def clean_caps(caps):\n",
        "    for key, cap in caps.items():\n",
        "        for i in range(len(cap)):\n",
        "            caption = cap[i]\n",
        "            caption = caption.lower()\n",
        "            caption = strip_punctuation(caption)\n",
        "            caption = strip_numeric(caption)\n",
        "            caption = strip_short(caption,2)\n",
        "            cap[i] = caption"
      ],
      "execution_count": null,
      "outputs": []
    },
    {
      "cell_type": "code",
      "metadata": {
        "id": "e2RJVxQD-tv_",
        "colab_type": "code",
        "colab": {}
      },
      "source": [
        "clean_caps(captions)"
      ],
      "execution_count": null,
      "outputs": []
    },
    {
      "cell_type": "code",
      "metadata": {
        "id": "r8GlYLay-ul6",
        "colab_type": "code",
        "colab": {}
      },
      "source": [
        "def load_clean_descriptions(caps, data):\n",
        "    dat = dict()\n",
        "    for key, cap in caps.items():\n",
        "        if key+'.jpg' in data:\n",
        "            if key not in dat:\n",
        "                dat[key] = []\n",
        "            for line in cap:\n",
        "                c = '<start> '+line+' <end>'\n",
        "                dat[key].append(c)\n",
        "    return dat\n",
        "train_caps = load_clean_descriptions(captions, trainset)\n",
        "test_caps = load_clean_descriptions(captions, testset)"
      ],
      "execution_count": null,
      "outputs": []
    },
    {
      "cell_type": "code",
      "metadata": {
        "id": "Ry_GVvUV-xLQ",
        "colab_type": "code",
        "colab": {}
      },
      "source": [
        "def load_im(img_path):\n",
        "    img = cv2.imread(img_path)\n",
        "    img = cv2.resize(img,(299,299))\n",
        "    #x = img_to_array(img)\n",
        "    x = np.expand_dims(img, axis = 0)\n",
        "    x = preprocess_input(x)\n",
        "    return x"
      ],
      "execution_count": null,
      "outputs": []
    },
    {
      "cell_type": "code",
      "metadata": {
        "id": "SjbLxJU5-ytr",
        "colab_type": "code",
        "colab": {
          "base_uri": "https://localhost:8080/",
          "height": 52
        },
        "outputId": "27d6440d-c02d-4724-e20c-74d9bbb46ab5"
      },
      "source": [
        "base_model = InceptionV3(weights = 'imagenet',input_shape = (299,299,3))"
      ],
      "execution_count": null,
      "outputs": [
        {
          "output_type": "stream",
          "text": [
            "Downloading data from https://github.com/fchollet/deep-learning-models/releases/download/v0.5/inception_v3_weights_tf_dim_ordering_tf_kernels.h5\n",
            "96116736/96112376 [==============================] - 8s 0us/step\n"
          ],
          "name": "stdout"
        }
      ]
    },
    {
      "cell_type": "code",
      "metadata": {
        "id": "fUxtnGeC-0n2",
        "colab_type": "code",
        "colab": {}
      },
      "source": [
        "x = base_model.layers[-2]"
      ],
      "execution_count": null,
      "outputs": []
    },
    {
      "cell_type": "code",
      "metadata": {
        "id": "LQkGqdTE-1jJ",
        "colab_type": "code",
        "colab": {}
      },
      "source": [
        "encoder = Model(base_model.inputs,x.output)"
      ],
      "execution_count": null,
      "outputs": []
    },
    {
      "cell_type": "code",
      "metadata": {
        "id": "Ppvp0dvo-2rn",
        "colab_type": "code",
        "colab": {}
      },
      "source": [
        "from tqdm.notebook import tqdm"
      ],
      "execution_count": null,
      "outputs": []
    },
    {
      "cell_type": "code",
      "metadata": {
        "id": "mwVHuqqE-3bz",
        "colab_type": "code",
        "colab": {}
      },
      "source": [
        "def encode_img(img):\n",
        "    img = load_im(img)\n",
        "    enc = encoder.predict(img)\n",
        "    enc = np.reshape(enc, (enc.shape[1]))\n",
        "    return enc"
      ],
      "execution_count": null,
      "outputs": []
    },
    {
      "cell_type": "markdown",
      "metadata": {
        "id": "xxRBf5Npr1N6",
        "colab_type": "text"
      },
      "source": [
        "train_enc = np.load('incp_train.npy',allow_pickle = True)"
      ]
    },
    {
      "cell_type": "code",
      "metadata": {
        "id": "hlknoovD-8dj",
        "colab_type": "code",
        "colab": {
          "base_uri": "https://localhost:8080/",
          "height": 66,
          "referenced_widgets": [
            "78b28e3b467643c496480e4abdb3eb1e",
            "537b54359de7444db8cfad206cadbf0d",
            "a53f200a7f9643269ba7d0409723e610",
            "d7ff8c5e2c4e4a6a986c350efb2ffe8d",
            "f0c1c6744ede4f20bbc20853f60ad049",
            "75a965384ac14525aee6708caa1af250",
            "9c5bbc3a8f364a5f8f7d312c1248c4c0",
            "4ef39e4943f74c30a0987d8a6374ff05"
          ]
        },
        "outputId": "c2f60238-9fbd-4f1f-f3e4-ce1e01db38c2"
      },
      "source": [
        "train_enc = {}\n",
        "for img in tqdm(train_img):\n",
        "    train_enc[img.split('/')[-1]] = encode_img(img)"
      ],
      "execution_count": null,
      "outputs": [
        {
          "output_type": "display_data",
          "data": {
            "application/vnd.jupyter.widget-view+json": {
              "model_id": "78b28e3b467643c496480e4abdb3eb1e",
              "version_minor": 0,
              "version_major": 2
            },
            "text/plain": [
              "HBox(children=(FloatProgress(value=0.0, max=6000.0), HTML(value='')))"
            ]
          },
          "metadata": {
            "tags": []
          }
        },
        {
          "output_type": "stream",
          "text": [
            "\n"
          ],
          "name": "stdout"
        }
      ]
    },
    {
      "cell_type": "code",
      "metadata": {
        "id": "2p_cj0DO-_Qf",
        "colab_type": "code",
        "colab": {
          "base_uri": "https://localhost:8080/",
          "height": 66,
          "referenced_widgets": [
            "81ebb04d1fc04f98a3115d2ee7a4f4c9",
            "9fc34dfd130341c29a7167c4a7c9c83f",
            "7ead33360a234f1dbd97f915e50ce674",
            "acb46d4a4d4e4bd8b0163c254513c6f3",
            "479d6f2b48634703abe61e1c4946ed8d",
            "a58545dd1a4748779ac33141ebe1d70c",
            "3b6dc9645af14a558b405f2b92b78745",
            "54fbcb6574f243ba8e4aa076ef32c423"
          ]
        },
        "outputId": "cdf984cd-288a-4498-9586-399a3ed6e14f"
      },
      "source": [
        "test_enc = {}\n",
        "for img in tqdm(test_img):\n",
        "    test_enc[img.split('/')[-1]] = encode_img(img)"
      ],
      "execution_count": null,
      "outputs": [
        {
          "output_type": "display_data",
          "data": {
            "application/vnd.jupyter.widget-view+json": {
              "model_id": "81ebb04d1fc04f98a3115d2ee7a4f4c9",
              "version_minor": 0,
              "version_major": 2
            },
            "text/plain": [
              "HBox(children=(FloatProgress(value=0.0, max=1000.0), HTML(value='')))"
            ]
          },
          "metadata": {
            "tags": []
          }
        },
        {
          "output_type": "stream",
          "text": [
            "\n"
          ],
          "name": "stdout"
        }
      ]
    },
    {
      "cell_type": "code",
      "metadata": {
        "id": "5Li6J8E9Ct0P",
        "colab_type": "code",
        "colab": {}
      },
      "source": [
        "np.save('incp_train',train_enc)\n",
        "np.save('incp_test',test_enc)"
      ],
      "execution_count": null,
      "outputs": []
    },
    {
      "cell_type": "code",
      "metadata": {
        "id": "XOZd1Rnu_70a",
        "colab_type": "code",
        "colab": {}
      },
      "source": [
        "word_to_idx = {}\n",
        "idx_to_word = {}"
      ],
      "execution_count": null,
      "outputs": []
    },
    {
      "cell_type": "code",
      "metadata": {
        "id": "VJuOmwYg_73l",
        "colab_type": "code",
        "colab": {
          "base_uri": "https://localhost:8080/",
          "height": 34
        },
        "outputId": "370115bc-4b94-4021-c769-6c883834e0b0"
      },
      "source": [
        "def to_vocab(cap):\n",
        "    words = set()\n",
        "    for key in cap.keys():\n",
        "        for line in cap[key]:\n",
        "            words.update(line.split())\n",
        "    return words\n",
        "vocab = to_vocab(captions)\n",
        "len(vocab)\n"
      ],
      "execution_count": null,
      "outputs": [
        {
          "output_type": "execute_result",
          "data": {
            "text/plain": [
              "8424"
            ]
          },
          "metadata": {
            "tags": []
          },
          "execution_count": 29
        }
      ]
    },
    {
      "cell_type": "code",
      "metadata": {
        "id": "jQS1JJz7_76w",
        "colab_type": "code",
        "colab": {}
      },
      "source": [
        "train_captions = []\n",
        "for key, caps in train_caps.items():\n",
        "    for cap in caps:\n",
        "        train_captions.append(cap)"
      ],
      "execution_count": null,
      "outputs": []
    },
    {
      "cell_type": "code",
      "metadata": {
        "id": "KZzXMrCEACJA",
        "colab_type": "code",
        "colab": {}
      },
      "source": [
        "vocabulary = vocab\n",
        "thresh = 10\n",
        "word_counts = {}\n",
        "for cap in train_captions:\n",
        "    for word in cap.split(' '):\n",
        "        word_counts[word] = word_counts.get(word, 0) + 1"
      ],
      "execution_count": null,
      "outputs": []
    },
    {
      "cell_type": "code",
      "metadata": {
        "id": "4o6FLDX-ACLp",
        "colab_type": "code",
        "colab": {}
      },
      "source": [
        "vocab = [word for word in word_counts if word_counts[word] >= thresh]"
      ],
      "execution_count": null,
      "outputs": []
    },
    {
      "cell_type": "code",
      "metadata": {
        "id": "8jPTZ12TAFCX",
        "colab_type": "code",
        "colab": {}
      },
      "source": [
        "for idx,word in enumerate(vocab):\n",
        "    word_to_idx[word] = idx+1\n",
        "    idx_to_word[idx+1] = word"
      ],
      "execution_count": null,
      "outputs": []
    },
    {
      "cell_type": "code",
      "metadata": {
        "id": "SN_kieL4AFEx",
        "colab_type": "code",
        "colab": {
          "base_uri": "https://localhost:8080/",
          "height": 34
        },
        "outputId": "c1f1bfcb-c5a6-4d37-839f-6018818869e4"
      },
      "source": [
        "vocab_size = len(idx_to_word) + 1 \n",
        "vocab_size"
      ],
      "execution_count": null,
      "outputs": [
        {
          "output_type": "execute_result",
          "data": {
            "text/plain": [
              "1657"
            ]
          },
          "metadata": {
            "tags": []
          },
          "execution_count": 34
        }
      ]
    },
    {
      "cell_type": "code",
      "metadata": {
        "id": "KeH5G1GkAFHm",
        "colab_type": "code",
        "colab": {}
      },
      "source": [
        "maxm = len(max(train_captions,key = len).split())"
      ],
      "execution_count": null,
      "outputs": []
    },
    {
      "cell_type": "code",
      "metadata": {
        "id": "a1TAGJaV_T6F",
        "colab_type": "code",
        "colab": {
          "base_uri": "https://localhost:8080/",
          "height": 34
        },
        "outputId": "a06d720a-e2de-4b95-91ea-3dfcd96d9a6c"
      },
      "source": [
        "X1, X2, y = [],[],[]\n",
        "for key, caps in train_caps.items():\n",
        "    pic = train_enc[key + '.jpg']\n",
        "    for cap in caps:\n",
        "        seq = [word_to_idx[word] for word in cap.split(' ') if word in word_to_idx]\n",
        "        for i in range(1, len(seq)):\n",
        "            in_seq, out_seq = seq[:i], seq[i]\n",
        "            in_seq = pad_sequences([in_seq], maxlen = maxm)[0]\n",
        "            out_seq = to_categorical([out_seq], num_classes = vocab_size)[0]\n",
        "            #store\n",
        "            X1.append(pic)\n",
        "            X2.append(in_seq)\n",
        "            y.append(out_seq)\n",
        "\n",
        "X2 = np.array(X2)\n",
        "X1 = np.array(X1)\n",
        "y = np.array(y)\n",
        "print(X1.shape)"
      ],
      "execution_count": null,
      "outputs": [
        {
          "output_type": "stream",
          "text": [
            "(293370, 2048)\n"
          ],
          "name": "stdout"
        }
      ]
    },
    {
      "cell_type": "code",
      "metadata": {
        "id": "jQAlT2IAAZKz",
        "colab_type": "code",
        "colab": {}
      },
      "source": [
        "from keras.models import Sequential\n",
        "from keras.layers import RepeatVector,TimeDistributed"
      ],
      "execution_count": null,
      "outputs": []
    },
    {
      "cell_type": "markdown",
      "metadata": {
        "id": "0AUQubfpGSGa",
        "colab_type": "text"
      },
      "source": [
        "Alternate Model"
      ]
    },
    {
      "cell_type": "code",
      "metadata": {
        "id": "V2YkhvPnAmqr",
        "colab_type": "code",
        "colab": {}
      },
      "source": [
        "img_model = Sequential()"
      ],
      "execution_count": null,
      "outputs": []
    },
    {
      "cell_type": "code",
      "metadata": {
        "id": "ZRU1HjEt_Upc",
        "colab_type": "code",
        "colab": {}
      },
      "source": [
        "img_model.add(Dense(256,input_shape = (2048,),activation = 'relu'))"
      ],
      "execution_count": null,
      "outputs": []
    },
    {
      "cell_type": "code",
      "metadata": {
        "id": "JpEuAOLkArRO",
        "colab_type": "code",
        "colab": {}
      },
      "source": [
        "img_model.add(RepeatVector(maxm))"
      ],
      "execution_count": null,
      "outputs": []
    },
    {
      "cell_type": "code",
      "metadata": {
        "id": "NXIb7OOgA2Tw",
        "colab_type": "code",
        "colab": {}
      },
      "source": [
        "lang_model = Sequential()"
      ],
      "execution_count": null,
      "outputs": []
    },
    {
      "cell_type": "code",
      "metadata": {
        "id": "qjmO84rIA4Xs",
        "colab_type": "code",
        "colab": {}
      },
      "source": [
        "lang_model.add(Embedding(200,vocab_size,input_length = maxm,input_shape = (maxm,)))"
      ],
      "execution_count": null,
      "outputs": []
    },
    {
      "cell_type": "code",
      "metadata": {
        "id": "DxVqbg2NBAM5",
        "colab_type": "code",
        "colab": {}
      },
      "source": [
        "lang_model.add(GRU(128,return_sequences = True))"
      ],
      "execution_count": null,
      "outputs": []
    },
    {
      "cell_type": "code",
      "metadata": {
        "id": "bzSSelWwBJG3",
        "colab_type": "code",
        "colab": {}
      },
      "source": [
        "lang_model.add(GRU(256,return_sequences = True))"
      ],
      "execution_count": null,
      "outputs": []
    },
    {
      "cell_type": "code",
      "metadata": {
        "id": "N9GaZp-nBJ1p",
        "colab_type": "code",
        "colab": {}
      },
      "source": [
        "lang_model.add(TimeDistributed(Dense(256,activation = 'relu')))"
      ],
      "execution_count": null,
      "outputs": []
    },
    {
      "cell_type": "code",
      "metadata": {
        "id": "BV0zryesBm8v",
        "colab_type": "code",
        "colab": {}
      },
      "source": [
        "model = concatenate([img_model.output,lang_model.output])"
      ],
      "execution_count": null,
      "outputs": []
    },
    {
      "cell_type": "code",
      "metadata": {
        "id": "Eco4NeX7BpP7",
        "colab_type": "code",
        "colab": {}
      },
      "source": [
        "model_seq = LSTM(128)(model)"
      ],
      "execution_count": null,
      "outputs": []
    },
    {
      "cell_type": "code",
      "metadata": {
        "id": "u4VRqo_5DhJt",
        "colab_type": "code",
        "colab": {}
      },
      "source": [
        "model_drop = Dropout(0.25)(model_seq)"
      ],
      "execution_count": null,
      "outputs": []
    },
    {
      "cell_type": "code",
      "metadata": {
        "id": "kqN3g1ZdDk_r",
        "colab_type": "code",
        "colab": {}
      },
      "source": [
        "model_dense = Dense(512,activation = 'relu')(model_drop)"
      ],
      "execution_count": null,
      "outputs": []
    },
    {
      "cell_type": "code",
      "metadata": {
        "id": "kIB9mB3EDqoC",
        "colab_type": "code",
        "colab": {}
      },
      "source": [
        "model_drop2 = Dropout(0.25)(model_dense)"
      ],
      "execution_count": null,
      "outputs": []
    },
    {
      "cell_type": "code",
      "metadata": {
        "id": "rdD_ppV9Bboo",
        "colab_type": "code",
        "colab": {}
      },
      "source": [
        "model_out = Dense(vocab_size,activation = 'softmax')(model_drop2)"
      ],
      "execution_count": null,
      "outputs": []
    },
    {
      "cell_type": "code",
      "metadata": {
        "id": "WNn5r4hdBz48",
        "colab_type": "code",
        "colab": {}
      },
      "source": [
        "net = Model([img_model.input,lang_model.input],model_out)"
      ],
      "execution_count": null,
      "outputs": []
    },
    {
      "cell_type": "code",
      "metadata": {
        "id": "KmEuAQjeB5Dj",
        "colab_type": "code",
        "colab": {}
      },
      "source": [
        "net.compile('adam','categorical_crossentropy',['accuracy'])"
      ],
      "execution_count": null,
      "outputs": []
    },
    {
      "cell_type": "code",
      "metadata": {
        "id": "YRixS8LzCG72",
        "colab_type": "code",
        "colab": {
          "base_uri": "https://localhost:8080/",
          "height": 1000
        },
        "outputId": "8a35207b-6b53-407e-cb4d-95072ab29e50"
      },
      "source": [
        "hist = net.fit([X1,X2],y,epochs = 50,batch_size = 1024)"
      ],
      "execution_count": null,
      "outputs": [
        {
          "output_type": "stream",
          "text": [
            "Epoch 1/50\n",
            "233370/233370 [==============================] - 112s 481us/step - loss: 1.9641 - accuracy: 0.4820\n",
            "Epoch 2/50\n",
            "233370/233370 [==============================] - 111s 474us/step - loss: 1.9693 - accuracy: 0.4780\n",
            "Epoch 3/50\n",
            "233370/233370 [==============================] - 110s 473us/step - loss: 1.9099 - accuracy: 0.4899\n",
            "Epoch 4/50\n",
            "233370/233370 [==============================] - 109s 466us/step - loss: 1.8751 - accuracy: 0.4975\n",
            "Epoch 5/50\n",
            "233370/233370 [==============================] - 108s 464us/step - loss: 1.8513 - accuracy: 0.5036\n",
            "Epoch 6/50\n",
            "233370/233370 [==============================] - 109s 467us/step - loss: 1.8428 - accuracy: 0.5047\n",
            "Epoch 7/50\n",
            "233370/233370 [==============================] - 108s 464us/step - loss: 1.8270 - accuracy: 0.5070\n",
            "Epoch 8/50\n",
            "233370/233370 [==============================] - 107s 459us/step - loss: 1.8175 - accuracy: 0.5091\n",
            "Epoch 9/50\n",
            "233370/233370 [==============================] - 110s 469us/step - loss: 1.8056 - accuracy: 0.5127\n",
            "Epoch 10/50\n",
            "233370/233370 [==============================] - 109s 465us/step - loss: 1.8053 - accuracy: 0.5131\n",
            "Epoch 11/50\n",
            "233370/233370 [==============================] - 107s 457us/step - loss: 1.7995 - accuracy: 0.5122\n",
            "Epoch 12/50\n",
            "233370/233370 [==============================] - 107s 458us/step - loss: 1.7926 - accuracy: 0.5150\n",
            "Epoch 13/50\n",
            "233370/233370 [==============================] - 106s 455us/step - loss: 1.7924 - accuracy: 0.5151\n",
            "Epoch 14/50\n",
            "233370/233370 [==============================] - 107s 460us/step - loss: 1.7885 - accuracy: 0.5153\n",
            "Epoch 15/50\n",
            "233370/233370 [==============================] - 107s 458us/step - loss: 1.7826 - accuracy: 0.5169\n",
            "Epoch 16/50\n",
            "233370/233370 [==============================] - 108s 462us/step - loss: 1.7859 - accuracy: 0.5164\n",
            "Epoch 17/50\n",
            "233370/233370 [==============================] - 108s 464us/step - loss: 1.7768 - accuracy: 0.5180\n",
            "Epoch 18/50\n",
            "233370/233370 [==============================] - 109s 466us/step - loss: 1.7722 - accuracy: 0.5188\n",
            "Epoch 19/50\n",
            "233370/233370 [==============================] - 110s 471us/step - loss: 1.7697 - accuracy: 0.5203\n",
            "Epoch 20/50\n",
            "233370/233370 [==============================] - 108s 465us/step - loss: 1.7722 - accuracy: 0.5188\n",
            "Epoch 21/50\n",
            "233370/233370 [==============================] - 107s 457us/step - loss: 1.7706 - accuracy: 0.5211\n",
            "Epoch 22/50\n",
            "233370/233370 [==============================] - 108s 461us/step - loss: 1.7686 - accuracy: 0.5204\n",
            "Epoch 23/50\n",
            "233370/233370 [==============================] - 107s 460us/step - loss: 1.7577 - accuracy: 0.5232\n",
            "Epoch 24/50\n",
            "233370/233370 [==============================] - 107s 456us/step - loss: 1.7604 - accuracy: 0.5216\n",
            "Epoch 25/50\n",
            "233370/233370 [==============================] - 107s 457us/step - loss: 1.7549 - accuracy: 0.5227\n",
            "Epoch 26/50\n",
            "233370/233370 [==============================] - 106s 455us/step - loss: 1.7586 - accuracy: 0.5222\n",
            "Epoch 27/50\n",
            "233370/233370 [==============================] - 107s 460us/step - loss: 1.7490 - accuracy: 0.5238\n",
            "Epoch 28/50\n",
            "233370/233370 [==============================] - 107s 460us/step - loss: 1.7496 - accuracy: 0.5241\n",
            "Epoch 29/50\n",
            "233370/233370 [==============================] - 107s 460us/step - loss: 1.7426 - accuracy: 0.5248\n",
            "Epoch 30/50\n",
            "233370/233370 [==============================] - 107s 460us/step - loss: 1.7423 - accuracy: 0.5253\n",
            "Epoch 31/50\n",
            "233370/233370 [==============================] - 108s 463us/step - loss: 1.7430 - accuracy: 0.5255\n",
            "Epoch 32/50\n",
            "233370/233370 [==============================] - 107s 458us/step - loss: 1.7407 - accuracy: 0.5270\n",
            "Epoch 33/50\n",
            "233370/233370 [==============================] - 105s 452us/step - loss: 1.7426 - accuracy: 0.5253\n",
            "Epoch 34/50\n",
            "233370/233370 [==============================] - 106s 454us/step - loss: 1.7354 - accuracy: 0.5263\n",
            "Epoch 35/50\n",
            "233370/233370 [==============================] - 106s 455us/step - loss: 1.7335 - accuracy: 0.5278\n",
            "Epoch 36/50\n",
            "233370/233370 [==============================] - 107s 458us/step - loss: 1.7278 - accuracy: 0.5280\n",
            "Epoch 37/50\n",
            "233370/233370 [==============================] - 106s 454us/step - loss: 1.7341 - accuracy: 0.5267\n",
            "Epoch 38/50\n",
            "233370/233370 [==============================] - 106s 453us/step - loss: 1.7262 - accuracy: 0.5291\n",
            "Epoch 39/50\n",
            "233370/233370 [==============================] - 105s 452us/step - loss: 1.7233 - accuracy: 0.5302\n",
            "Epoch 40/50\n",
            "233370/233370 [==============================] - 105s 450us/step - loss: 1.7171 - accuracy: 0.5314\n",
            "Epoch 41/50\n",
            "233370/233370 [==============================] - 105s 452us/step - loss: 1.7202 - accuracy: 0.5288\n",
            "Epoch 42/50\n",
            "233370/233370 [==============================] - 106s 454us/step - loss: 1.7157 - accuracy: 0.5316\n",
            "Epoch 43/50\n",
            "233370/233370 [==============================] - 105s 451us/step - loss: 1.7068 - accuracy: 0.5325\n",
            "Epoch 44/50\n",
            "233370/233370 [==============================] - 107s 457us/step - loss: 1.7122 - accuracy: 0.5322\n",
            "Epoch 45/50\n",
            "233370/233370 [==============================] - 106s 453us/step - loss: 1.7110 - accuracy: 0.5306\n",
            "Epoch 46/50\n",
            "233370/233370 [==============================] - 106s 453us/step - loss: 1.7035 - accuracy: 0.5332\n",
            "Epoch 47/50\n",
            "233370/233370 [==============================] - 109s 469us/step - loss: 1.7045 - accuracy: 0.5338\n",
            "Epoch 48/50\n",
            "233370/233370 [==============================] - 106s 452us/step - loss: 1.6959 - accuracy: 0.5362\n",
            "Epoch 49/50\n",
            "233370/233370 [==============================] - 105s 448us/step - loss: 1.7108 - accuracy: 0.5321\n",
            "Epoch 50/50\n",
            "233370/233370 [==============================] - 107s 459us/step - loss: 1.7006 - accuracy: 0.5346\n"
          ],
          "name": "stdout"
        }
      ]
    },
    {
      "cell_type": "code",
      "metadata": {
        "id": "uUoU0NP_EblB",
        "colab_type": "code",
        "colab": {}
      },
      "source": [
        "emb_dim = 200"
      ],
      "execution_count": null,
      "outputs": []
    },
    {
      "cell_type": "code",
      "metadata": {
        "id": "047vb3ZGsRaA",
        "colab_type": "code",
        "colab": {
          "base_uri": "https://localhost:8080/",
          "height": 1000
        },
        "outputId": "0ad00af5-dc81-4f04-e281-85c72601d8c8"
      },
      "source": [
        "plot_model(model,show_shapes=True,show_layer_names=False)"
      ],
      "execution_count": null,
      "outputs": [
        {
          "output_type": "execute_result",
          "data": {
            "image/png": "[encoded data removed]",
            "text/plain": [
              "<IPython.core.display.Image object>"
            ]
          },
          "metadata": {
            "tags": []
          },
          "execution_count": 85
        }
      ]
    },
    {
      "cell_type": "markdown",
      "metadata": {
        "id": "4gospOsBGW56",
        "colab_type": "text"
      },
      "source": [
        "Primary Model"
      ]
    },
    {
      "cell_type": "code",
      "metadata": {
        "id": "Kyxht802nOhr",
        "colab_type": "code",
        "colab": {}
      },
      "source": [
        "from keras.layers import Bidirectional"
      ],
      "execution_count": null,
      "outputs": []
    },
    {
      "cell_type": "code",
      "metadata": {
        "id": "L72upkv6rfiI",
        "colab_type": "code",
        "colab": {}
      },
      "source": [
        "import keras"
      ],
      "execution_count": null,
      "outputs": []
    },
    {
      "cell_type": "code",
      "metadata": {
        "id": "5t2V4uemAV9i",
        "colab_type": "code",
        "colab": {}
      },
      "source": [
        "emb_dim = 200"
      ],
      "execution_count": null,
      "outputs": []
    },
    {
      "cell_type": "code",
      "metadata": {
        "id": "BV9eE38pSuLK",
        "colab_type": "code",
        "colab": {
          "base_uri": "https://localhost:8080/",
          "height": 364
        },
        "outputId": "d21706c8-37ca-4250-8f48-db2174a2cd10"
      },
      "source": [
        "!wget http://nlp.stanford.edu/data/glove.6B.zip"
      ],
      "execution_count": null,
      "outputs": [
        {
          "output_type": "stream",
          "text": [
            "--2020-06-28 07:14:53--  http://nlp.stanford.edu/data/glove.6B.zip\n",
            "Resolving nlp.stanford.edu (nlp.stanford.edu)... 171.64.67.140\n",
            "Connecting to nlp.stanford.edu (nlp.stanford.edu)|171.64.67.140|:80... connected.\n",
            "HTTP request sent, awaiting response... 302 Found\n",
            "Location: https://nlp.stanford.edu/data/glove.6B.zip [following]\n",
            "--2020-06-28 07:14:53--  https://nlp.stanford.edu/data/glove.6B.zip\n",
            "Connecting to nlp.stanford.edu (nlp.stanford.edu)|171.64.67.140|:443... connected.\n",
            "HTTP request sent, awaiting response... 301 Moved Permanently\n",
            "Location: http://downloads.cs.stanford.edu/nlp/data/glove.6B.zip [following]\n",
            "--2020-06-28 07:14:54--  http://downloads.cs.stanford.edu/nlp/data/glove.6B.zip\n",
            "Resolving downloads.cs.stanford.edu (downloads.cs.stanford.edu)... 171.64.64.22\n",
            "Connecting to downloads.cs.stanford.edu (downloads.cs.stanford.edu)|171.64.64.22|:80... connected.\n",
            "HTTP request sent, awaiting response... 200 OK\n",
            "Length: 862182613 (822M) [application/zip]\n",
            "Saving to: ‘glove.6B.zip’\n",
            "\n",
            "glove.6B.zip        100%[===================>] 822.24M  1.91MB/s    in 6m 30s  \n",
            "\n",
            "2020-06-28 07:21:24 (2.11 MB/s) - ‘glove.6B.zip’ saved [862182613/862182613]\n",
            "\n"
          ],
          "name": "stdout"
        }
      ]
    },
    {
      "cell_type": "code",
      "metadata": {
        "id": "XQptB-rGXk1J",
        "colab_type": "code",
        "colab": {}
      },
      "source": [
        "!unzip -q /content/glove.6B.zip"
      ],
      "execution_count": null,
      "outputs": []
    },
    {
      "cell_type": "code",
      "metadata": {
        "id": "rRM9Jzn-SuRB",
        "colab_type": "code",
        "colab": {
          "base_uri": "https://localhost:8080/",
          "height": 34
        },
        "outputId": "e34d672a-0c8d-4169-878e-77563be55305"
      },
      "source": [
        "# Load Glove vectors\n",
        "embeddings_index = {} # empty dictionary\n",
        "f = open(\"/content/glove.6B.200d.txt\", encoding=\"utf-8\")\n",
        "\n",
        "for line in f:\n",
        "    values = line.split()\n",
        "    word = values[0]\n",
        "    coefs = np.asarray(values[1:], dtype='float32')\n",
        "    embeddings_index[word] = coefs\n",
        "f.close()\n",
        "print('Found %s word vectors.' % len(embeddings_index))"
      ],
      "execution_count": null,
      "outputs": [
        {
          "output_type": "stream",
          "text": [
            "Found 400000 word vectors.\n"
          ],
          "name": "stdout"
        }
      ]
    },
    {
      "cell_type": "code",
      "metadata": {
        "id": "2VsIRBdrSuPJ",
        "colab_type": "code",
        "colab": {}
      },
      "source": [
        "# Get 200-dim dense vector for each of the 10000 words in out vocabulary\n",
        "vocab_size = len(word_to_idx) + 1\n",
        "embedding_dim = 200\n",
        "embedding_matrix = np.zeros((vocab_size, embedding_dim))\n",
        "\n",
        "for word, i in word_to_idx.items():\n",
        "    #if i < max_words:\n",
        "    embedding_vector = embeddings_index.get(word)\n",
        "    if embedding_vector is not None:\n",
        "        # Words not found in the embedding index will be all zeros\n",
        "        embedding_matrix[i] = embedding_vector"
      ],
      "execution_count": null,
      "outputs": []
    },
    {
      "cell_type": "code",
      "metadata": {
        "id": "ctTe0IqzDvoc",
        "colab_type": "code",
        "colab": {}
      },
      "source": [
        "ip1 = Input(shape = (2048, ))\n",
        "fe1 = Dropout(0.2)(ip1)\n",
        "fe2 = Dense(256, activation = 'relu')(fe1)\n",
        "ip2 = Input(shape = (maxm, ))\n",
        "se1 = Embedding(vocab_size, emb_dim, mask_zero = True,weights = [embedding_matrix],trainable = False)(ip2)\n",
        "se2 = Dropout(0.2)(se1)\n",
        "se3 = (GRU(256,return_sequences=True,return_state=False))(se2)\n",
        "se4 = (GRU(256))(se3)\n",
        "decoder1 = concatenate([fe2, se4])\n",
        "decoder2 = Dense(512, activation = 'relu')(decoder1)\n",
        "decoder3 = Dropout(0.2)(decoder2)\n",
        "decoder4 = Dense(256, activation = 'relu')(decoder3)\n",
        "decoder5 = Dropout(0.2)(decoder4)\n",
        "outputs = Dense(vocab_size, activation = 'softmax')(decoder5)\n",
        "model = Model(inputs = [ip1, ip2], outputs = outputs)\n",
        "#model.layers[2].set_weights([emb_matrix])\n",
        "#model.layers[2].trainable = False\n",
        "model.compile(loss = 'categorical_crossentropy', optimizer = keras.optimizers.Adam(0.0005,decay = 0),metrics = ['accuracy'])"
      ],
      "execution_count": null,
      "outputs": []
    },
    {
      "cell_type": "code",
      "metadata": {
        "id": "JAW1fvWrEaFg",
        "colab_type": "code",
        "colab": {
          "base_uri": "https://localhost:8080/",
          "height": 1000
        },
        "outputId": "d2a25c97-3ed7-45e6-9843-c9f917a73712"
      },
      "source": [
        "hist = model.fit([X1,X2],y,epochs = 200,batch_size = 5600)"
      ],
      "execution_count": null,
      "outputs": [
        {
          "output_type": "stream",
          "text": [
            "Epoch 1/200\n",
            "293370/293370 [==============================] - 61s 209us/step - loss: 5.6601 - accuracy: 0.1106\n",
            "Epoch 2/200\n",
            "293370/293370 [==============================] - 59s 202us/step - loss: 4.7372 - accuracy: 0.1884\n",
            "Epoch 3/200\n",
            "293370/293370 [==============================] - 59s 203us/step - loss: 4.2730 - accuracy: 0.2239\n",
            "Epoch 4/200\n",
            "293370/293370 [==============================] - 60s 204us/step - loss: 3.9871 - accuracy: 0.2446\n",
            "Epoch 5/200\n",
            "293370/293370 [==============================] - 60s 205us/step - loss: 3.7875 - accuracy: 0.2613\n",
            "Epoch 6/200\n",
            "293370/293370 [==============================] - 59s 202us/step - loss: 3.6492 - accuracy: 0.2736\n",
            "Epoch 7/200\n",
            "293370/293370 [==============================] - 59s 200us/step - loss: 3.5388 - accuracy: 0.2839\n",
            "Epoch 8/200\n",
            "293370/293370 [==============================] - 58s 198us/step - loss: 3.4509 - accuracy: 0.2934\n",
            "Epoch 9/200\n",
            "293370/293370 [==============================] - 58s 199us/step - loss: 3.3736 - accuracy: 0.3010\n",
            "Epoch 10/200\n",
            "293370/293370 [==============================] - 58s 199us/step - loss: 3.3041 - accuracy: 0.3085\n",
            "Epoch 11/200\n",
            "293370/293370 [==============================] - 59s 202us/step - loss: 3.2427 - accuracy: 0.3147\n",
            "Epoch 12/200\n",
            "293370/293370 [==============================] - 60s 203us/step - loss: 3.1904 - accuracy: 0.3200\n",
            "Epoch 13/200\n",
            "293370/293370 [==============================] - 60s 203us/step - loss: 3.1426 - accuracy: 0.3258\n",
            "Epoch 14/200\n",
            "293370/293370 [==============================] - 60s 205us/step - loss: 3.0984 - accuracy: 0.3302\n",
            "Epoch 15/200\n",
            "293370/293370 [==============================] - 60s 205us/step - loss: 3.0608 - accuracy: 0.3338\n",
            "Epoch 16/200\n",
            "293370/293370 [==============================] - 60s 204us/step - loss: 3.0220 - accuracy: 0.3381\n",
            "Epoch 17/200\n",
            "293370/293370 [==============================] - 60s 203us/step - loss: 2.9858 - accuracy: 0.3424\n",
            "Epoch 18/200\n",
            "293370/293370 [==============================] - 60s 204us/step - loss: 2.9529 - accuracy: 0.3452\n",
            "Epoch 19/200\n",
            "293370/293370 [==============================] - 59s 201us/step - loss: 2.9217 - accuracy: 0.3492\n",
            "Epoch 20/200\n",
            "293370/293370 [==============================] - 59s 201us/step - loss: 2.8938 - accuracy: 0.3526\n",
            "Epoch 21/200\n",
            "293370/293370 [==============================] - 58s 199us/step - loss: 2.8646 - accuracy: 0.3561\n",
            "Epoch 22/200\n",
            "293370/293370 [==============================] - 58s 199us/step - loss: 2.8368 - accuracy: 0.3596\n",
            "Epoch 23/200\n",
            "293370/293370 [==============================] - 59s 200us/step - loss: 2.8142 - accuracy: 0.3622\n",
            "Epoch 24/200\n",
            "293370/293370 [==============================] - 59s 202us/step - loss: 2.7867 - accuracy: 0.3657\n",
            "Epoch 25/200\n",
            "293370/293370 [==============================] - 59s 201us/step - loss: 2.7644 - accuracy: 0.3690\n",
            "Epoch 26/200\n",
            "293370/293370 [==============================] - 59s 202us/step - loss: 2.7431 - accuracy: 0.3711\n",
            "Epoch 27/200\n",
            "293370/293370 [==============================] - 59s 201us/step - loss: 2.7198 - accuracy: 0.3748\n",
            "Epoch 28/200\n",
            "293370/293370 [==============================] - 59s 202us/step - loss: 2.6963 - accuracy: 0.3775\n",
            "Epoch 29/200\n",
            "293370/293370 [==============================] - 60s 203us/step - loss: 2.6775 - accuracy: 0.3793\n",
            "Epoch 30/200\n",
            "293370/293370 [==============================] - 60s 204us/step - loss: 2.6578 - accuracy: 0.3812\n",
            "Epoch 31/200\n",
            "293370/293370 [==============================] - 60s 203us/step - loss: 2.6394 - accuracy: 0.3850\n",
            "Epoch 32/200\n",
            "293370/293370 [==============================] - 60s 203us/step - loss: 2.6195 - accuracy: 0.3864\n",
            "Epoch 33/200\n",
            "293370/293370 [==============================] - 60s 203us/step - loss: 2.6010 - accuracy: 0.3895\n",
            "Epoch 34/200\n",
            "293370/293370 [==============================] - 60s 204us/step - loss: 2.5852 - accuracy: 0.3928\n",
            "Epoch 35/200\n",
            "293370/293370 [==============================] - 60s 204us/step - loss: 2.5681 - accuracy: 0.3940\n",
            "Epoch 36/200\n",
            "293370/293370 [==============================] - 60s 203us/step - loss: 2.5502 - accuracy: 0.3966\n",
            "Epoch 37/200\n",
            "293370/293370 [==============================] - 60s 204us/step - loss: 2.5318 - accuracy: 0.3989\n",
            "Epoch 38/200\n",
            "293370/293370 [==============================] - 60s 203us/step - loss: 2.5172 - accuracy: 0.4002\n",
            "Epoch 39/200\n",
            "293370/293370 [==============================] - 60s 203us/step - loss: 2.5027 - accuracy: 0.4034\n",
            "Epoch 40/200\n",
            "293370/293370 [==============================] - 60s 204us/step - loss: 2.4850 - accuracy: 0.4053\n",
            "Epoch 41/200\n",
            "293370/293370 [==============================] - 60s 204us/step - loss: 2.4732 - accuracy: 0.4080\n",
            "Epoch 42/200\n",
            "293370/293370 [==============================] - 60s 204us/step - loss: 2.4584 - accuracy: 0.4086\n",
            "Epoch 43/200\n",
            "293370/293370 [==============================] - 60s 204us/step - loss: 2.4434 - accuracy: 0.4110\n",
            "Epoch 44/200\n",
            "293370/293370 [==============================] - 60s 204us/step - loss: 2.4326 - accuracy: 0.4124\n",
            "Epoch 45/200\n",
            "293370/293370 [==============================] - 60s 204us/step - loss: 2.4163 - accuracy: 0.4159\n",
            "Epoch 46/200\n",
            "293370/293370 [==============================] - 60s 204us/step - loss: 2.4040 - accuracy: 0.4170\n",
            "Epoch 47/200\n",
            "293370/293370 [==============================] - 60s 203us/step - loss: 2.3894 - accuracy: 0.4196\n",
            "Epoch 48/200\n",
            "293370/293370 [==============================] - 60s 204us/step - loss: 2.3745 - accuracy: 0.4214\n",
            "Epoch 49/200\n",
            "293370/293370 [==============================] - 60s 204us/step - loss: 2.3638 - accuracy: 0.4234\n",
            "Epoch 50/200\n",
            "293370/293370 [==============================] - 60s 204us/step - loss: 2.3513 - accuracy: 0.4246\n",
            "Epoch 51/200\n",
            "293370/293370 [==============================] - 60s 205us/step - loss: 2.3393 - accuracy: 0.4257\n",
            "Epoch 52/200\n",
            "293370/293370 [==============================] - 60s 203us/step - loss: 2.3257 - accuracy: 0.4277\n",
            "Epoch 53/200\n",
            "293370/293370 [==============================] - 60s 204us/step - loss: 2.3157 - accuracy: 0.4294\n",
            "Epoch 54/200\n",
            "293370/293370 [==============================] - 60s 204us/step - loss: 2.3065 - accuracy: 0.4310\n",
            "Epoch 55/200\n",
            "293370/293370 [==============================] - 60s 204us/step - loss: 2.2882 - accuracy: 0.4337\n",
            "Epoch 56/200\n",
            "293370/293370 [==============================] - 60s 204us/step - loss: 2.2795 - accuracy: 0.4345\n",
            "Epoch 57/200\n",
            "293370/293370 [==============================] - 60s 205us/step - loss: 2.2714 - accuracy: 0.4362\n",
            "Epoch 58/200\n",
            "293370/293370 [==============================] - 60s 204us/step - loss: 2.2609 - accuracy: 0.4378\n",
            "Epoch 59/200\n",
            "293370/293370 [==============================] - 60s 203us/step - loss: 2.2484 - accuracy: 0.4398\n",
            "Epoch 60/200\n",
            "293370/293370 [==============================] - 59s 202us/step - loss: 2.2392 - accuracy: 0.4417\n",
            "Epoch 61/200\n",
            "293370/293370 [==============================] - 60s 204us/step - loss: 2.2256 - accuracy: 0.4432\n",
            "Epoch 62/200\n",
            "293370/293370 [==============================] - 60s 203us/step - loss: 2.2178 - accuracy: 0.4440\n",
            "Epoch 63/200\n",
            "293370/293370 [==============================] - 60s 203us/step - loss: 2.2084 - accuracy: 0.4456\n",
            "Epoch 64/200\n",
            "293370/293370 [==============================] - 60s 203us/step - loss: 2.2010 - accuracy: 0.4471\n",
            "Epoch 65/200\n",
            "293370/293370 [==============================] - 60s 204us/step - loss: 2.1859 - accuracy: 0.4499\n",
            "Epoch 66/200\n",
            "293370/293370 [==============================] - 60s 203us/step - loss: 2.1772 - accuracy: 0.4519\n",
            "Epoch 67/200\n",
            "293370/293370 [==============================] - 60s 204us/step - loss: 2.1696 - accuracy: 0.4518\n",
            "Epoch 68/200\n",
            "293370/293370 [==============================] - 60s 203us/step - loss: 2.1610 - accuracy: 0.4524\n",
            "Epoch 69/200\n",
            "293370/293370 [==============================] - 59s 203us/step - loss: 2.1522 - accuracy: 0.4540\n",
            "Epoch 70/200\n",
            "293370/293370 [==============================] - 59s 202us/step - loss: 2.1390 - accuracy: 0.4558\n",
            "Epoch 71/200\n",
            "293370/293370 [==============================] - 59s 202us/step - loss: 2.1309 - accuracy: 0.4573\n",
            "Epoch 72/200\n",
            "293370/293370 [==============================] - 59s 202us/step - loss: 2.1248 - accuracy: 0.4578\n",
            "Epoch 73/200\n",
            "293370/293370 [==============================] - 59s 202us/step - loss: 2.1157 - accuracy: 0.4603\n",
            "Epoch 74/200\n",
            "293370/293370 [==============================] - 59s 202us/step - loss: 2.1059 - accuracy: 0.4614\n",
            "Epoch 75/200\n",
            "293370/293370 [==============================] - 59s 202us/step - loss: 2.1011 - accuracy: 0.4630\n",
            "Epoch 76/200\n",
            "293370/293370 [==============================] - 59s 203us/step - loss: 2.0890 - accuracy: 0.4653\n",
            "Epoch 77/200\n",
            "293370/293370 [==============================] - 59s 202us/step - loss: 2.0839 - accuracy: 0.4653\n",
            "Epoch 78/200\n",
            "293370/293370 [==============================] - 59s 202us/step - loss: 2.0720 - accuracy: 0.4673\n",
            "Epoch 79/200\n",
            "293370/293370 [==============================] - 59s 203us/step - loss: 2.0626 - accuracy: 0.4687\n",
            "Epoch 80/200\n",
            "293370/293370 [==============================] - 59s 202us/step - loss: 2.0582 - accuracy: 0.4695\n",
            "Epoch 81/200\n",
            "293370/293370 [==============================] - 59s 202us/step - loss: 2.0496 - accuracy: 0.4708\n",
            "Epoch 82/200\n",
            "293370/293370 [==============================] - 60s 203us/step - loss: 2.0438 - accuracy: 0.4709\n",
            "Epoch 83/200\n",
            "293370/293370 [==============================] - 59s 203us/step - loss: 2.0318 - accuracy: 0.4740\n",
            "Epoch 84/200\n",
            "293370/293370 [==============================] - 59s 203us/step - loss: 2.0272 - accuracy: 0.4736\n",
            "Epoch 85/200\n",
            "293370/293370 [==============================] - 59s 202us/step - loss: 2.0209 - accuracy: 0.4758\n",
            "Epoch 86/200\n",
            "293370/293370 [==============================] - 59s 202us/step - loss: 2.0140 - accuracy: 0.4765\n",
            "Epoch 87/200\n",
            "293370/293370 [==============================] - 59s 203us/step - loss: 2.0081 - accuracy: 0.4773\n",
            "Epoch 88/200\n",
            "293370/293370 [==============================] - 59s 202us/step - loss: 2.0022 - accuracy: 0.4784\n",
            "Epoch 89/200\n",
            "293370/293370 [==============================] - 59s 202us/step - loss: 1.9916 - accuracy: 0.4807\n",
            "Epoch 90/200\n",
            "293370/293370 [==============================] - 59s 202us/step - loss: 1.9877 - accuracy: 0.4815\n",
            "Epoch 91/200\n",
            "293370/293370 [==============================] - 59s 202us/step - loss: 1.9790 - accuracy: 0.4832\n",
            "Epoch 92/200\n",
            "293370/293370 [==============================] - 59s 202us/step - loss: 1.9727 - accuracy: 0.4844\n",
            "Epoch 93/200\n",
            "293370/293370 [==============================] - 60s 203us/step - loss: 1.9646 - accuracy: 0.4847\n",
            "Epoch 94/200\n",
            "293370/293370 [==============================] - 59s 200us/step - loss: 1.9573 - accuracy: 0.4867\n",
            "Epoch 95/200\n",
            "293370/293370 [==============================] - 59s 202us/step - loss: 1.9521 - accuracy: 0.4867\n",
            "Epoch 96/200\n",
            "293370/293370 [==============================] - 59s 202us/step - loss: 1.9435 - accuracy: 0.4885\n",
            "Epoch 97/200\n",
            "293370/293370 [==============================] - 59s 202us/step - loss: 1.9404 - accuracy: 0.4888\n",
            "Epoch 98/200\n",
            "293370/293370 [==============================] - 59s 202us/step - loss: 1.9324 - accuracy: 0.4900\n",
            "Epoch 99/200\n",
            "293370/293370 [==============================] - 60s 203us/step - loss: 1.9269 - accuracy: 0.4906\n",
            "Epoch 100/200\n",
            "293370/293370 [==============================] - 59s 203us/step - loss: 1.9237 - accuracy: 0.4908\n",
            "Epoch 101/200\n",
            "293370/293370 [==============================] - 60s 203us/step - loss: 1.9170 - accuracy: 0.4932\n",
            "Epoch 102/200\n",
            "293370/293370 [==============================] - 59s 203us/step - loss: 1.9081 - accuracy: 0.4948\n",
            "Epoch 103/200\n",
            "293370/293370 [==============================] - 59s 202us/step - loss: 1.9027 - accuracy: 0.4958\n",
            "Epoch 104/200\n",
            "293370/293370 [==============================] - 59s 202us/step - loss: 1.8996 - accuracy: 0.4958\n",
            "Epoch 105/200\n",
            "293370/293370 [==============================] - 59s 202us/step - loss: 1.8903 - accuracy: 0.4979\n",
            "Epoch 106/200\n",
            "293370/293370 [==============================] - 59s 202us/step - loss: 1.8859 - accuracy: 0.4987\n",
            "Epoch 107/200\n",
            "293370/293370 [==============================] - 59s 202us/step - loss: 1.8793 - accuracy: 0.5000\n",
            "Epoch 108/200\n",
            "293370/293370 [==============================] - 59s 203us/step - loss: 1.8772 - accuracy: 0.5002\n",
            "Epoch 109/200\n",
            "293370/293370 [==============================] - 59s 202us/step - loss: 1.8725 - accuracy: 0.5005\n",
            "Epoch 110/200\n",
            "293370/293370 [==============================] - 59s 203us/step - loss: 1.8647 - accuracy: 0.5032\n",
            "Epoch 111/200\n",
            "293370/293370 [==============================] - 59s 202us/step - loss: 1.8571 - accuracy: 0.5042\n",
            "Epoch 112/200\n",
            "293370/293370 [==============================] - 59s 202us/step - loss: 1.8508 - accuracy: 0.5052\n",
            "Epoch 113/200\n",
            "293370/293370 [==============================] - 59s 202us/step - loss: 1.8476 - accuracy: 0.5069\n",
            "Epoch 114/200\n",
            "293370/293370 [==============================] - 59s 202us/step - loss: 1.8419 - accuracy: 0.5062\n",
            "Epoch 115/200\n",
            "293370/293370 [==============================] - 59s 203us/step - loss: 1.8362 - accuracy: 0.5077\n",
            "Epoch 116/200\n",
            "293370/293370 [==============================] - 59s 202us/step - loss: 1.8364 - accuracy: 0.5070\n",
            "Epoch 117/200\n",
            "293370/293370 [==============================] - 59s 202us/step - loss: 1.8267 - accuracy: 0.5093\n",
            "Epoch 118/200\n",
            "293370/293370 [==============================] - 59s 202us/step - loss: 1.8250 - accuracy: 0.5089\n",
            "Epoch 119/200\n",
            "293370/293370 [==============================] - 59s 202us/step - loss: 1.8189 - accuracy: 0.5105\n",
            "Epoch 120/200\n",
            "293370/293370 [==============================] - 59s 202us/step - loss: 1.8147 - accuracy: 0.5126\n",
            "Epoch 121/200\n",
            "293370/293370 [==============================] - 59s 202us/step - loss: 1.8085 - accuracy: 0.5129\n",
            "Epoch 122/200\n",
            "293370/293370 [==============================] - 59s 203us/step - loss: 1.8024 - accuracy: 0.5143\n",
            "Epoch 123/200\n",
            "293370/293370 [==============================] - 60s 203us/step - loss: 1.7956 - accuracy: 0.5152\n",
            "Epoch 124/200\n",
            "293370/293370 [==============================] - 60s 203us/step - loss: 1.7941 - accuracy: 0.5151\n",
            "Epoch 125/200\n",
            "293370/293370 [==============================] - 59s 202us/step - loss: 1.7886 - accuracy: 0.5156\n",
            "Epoch 126/200\n",
            "293370/293370 [==============================] - 59s 202us/step - loss: 1.7841 - accuracy: 0.5172\n",
            "Epoch 127/200\n",
            "293370/293370 [==============================] - 59s 202us/step - loss: 1.7781 - accuracy: 0.5184\n",
            "Epoch 128/200\n",
            "293370/293370 [==============================] - 59s 202us/step - loss: 1.7802 - accuracy: 0.5175\n",
            "Epoch 129/200\n",
            "293370/293370 [==============================] - 59s 202us/step - loss: 1.7736 - accuracy: 0.5188\n",
            "Epoch 130/200\n",
            "293370/293370 [==============================] - 59s 202us/step - loss: 1.7671 - accuracy: 0.5198\n",
            "Epoch 131/200\n",
            "293370/293370 [==============================] - 59s 202us/step - loss: 1.7639 - accuracy: 0.5214\n",
            "Epoch 132/200\n",
            "293370/293370 [==============================] - 59s 202us/step - loss: 1.7584 - accuracy: 0.5220\n",
            "Epoch 133/200\n",
            "293370/293370 [==============================] - 59s 203us/step - loss: 1.7555 - accuracy: 0.5230\n",
            "Epoch 134/200\n",
            "293370/293370 [==============================] - 59s 202us/step - loss: 1.7496 - accuracy: 0.5244\n",
            "Epoch 135/200\n",
            "293370/293370 [==============================] - 59s 202us/step - loss: 1.7467 - accuracy: 0.5240\n",
            "Epoch 136/200\n",
            "293370/293370 [==============================] - 59s 202us/step - loss: 1.7400 - accuracy: 0.5250\n",
            "Epoch 137/200\n",
            "293370/293370 [==============================] - 59s 202us/step - loss: 1.7410 - accuracy: 0.5258\n",
            "Epoch 138/200\n",
            "293370/293370 [==============================] - 59s 202us/step - loss: 1.7354 - accuracy: 0.5256\n",
            "Epoch 139/200\n",
            "293370/293370 [==============================] - 59s 201us/step - loss: 1.7301 - accuracy: 0.5271\n",
            "Epoch 140/200\n",
            "293370/293370 [==============================] - 59s 202us/step - loss: 1.7266 - accuracy: 0.5278\n",
            "Epoch 141/200\n",
            "293370/293370 [==============================] - 59s 202us/step - loss: 1.7226 - accuracy: 0.5293\n",
            "Epoch 142/200\n",
            "293370/293370 [==============================] - 59s 202us/step - loss: 1.7194 - accuracy: 0.5295\n",
            "Epoch 143/200\n",
            "293370/293370 [==============================] - 59s 202us/step - loss: 1.7151 - accuracy: 0.5299\n",
            "Epoch 144/200\n",
            "293370/293370 [==============================] - 59s 201us/step - loss: 1.7144 - accuracy: 0.5303\n",
            "Epoch 145/200\n",
            "293370/293370 [==============================] - 59s 202us/step - loss: 1.7078 - accuracy: 0.5318\n",
            "Epoch 146/200\n",
            "293370/293370 [==============================] - 59s 202us/step - loss: 1.7029 - accuracy: 0.5321\n",
            "Epoch 147/200\n",
            "293370/293370 [==============================] - 59s 202us/step - loss: 1.6987 - accuracy: 0.5335\n",
            "Epoch 148/200\n",
            "293370/293370 [==============================] - 59s 202us/step - loss: 1.6976 - accuracy: 0.5340\n",
            "Epoch 149/200\n",
            "293370/293370 [==============================] - 59s 202us/step - loss: 1.6980 - accuracy: 0.5331\n",
            "Epoch 150/200\n",
            "293370/293370 [==============================] - 59s 202us/step - loss: 1.6914 - accuracy: 0.5345\n",
            "Epoch 151/200\n",
            "293370/293370 [==============================] - 59s 202us/step - loss: 1.6856 - accuracy: 0.5356\n",
            "Epoch 152/200\n",
            "293370/293370 [==============================] - 59s 202us/step - loss: 1.6830 - accuracy: 0.5368\n",
            "Epoch 153/200\n",
            "293370/293370 [==============================] - 59s 202us/step - loss: 1.6815 - accuracy: 0.5364\n",
            "Epoch 154/200\n",
            "293370/293370 [==============================] - 59s 202us/step - loss: 1.6772 - accuracy: 0.5381\n",
            "Epoch 155/200\n",
            "293370/293370 [==============================] - 59s 202us/step - loss: 1.6750 - accuracy: 0.5369\n",
            "Epoch 156/200\n",
            "293370/293370 [==============================] - 59s 202us/step - loss: 1.6667 - accuracy: 0.5390\n",
            "Epoch 157/200\n",
            "293370/293370 [==============================] - 59s 201us/step - loss: 1.6702 - accuracy: 0.5387\n",
            "Epoch 158/200\n",
            "293370/293370 [==============================] - 59s 202us/step - loss: 1.6654 - accuracy: 0.5396\n",
            "Epoch 159/200\n",
            "293370/293370 [==============================] - 59s 202us/step - loss: 1.6658 - accuracy: 0.5391\n",
            "Epoch 160/200\n",
            "293370/293370 [==============================] - 59s 202us/step - loss: 1.6576 - accuracy: 0.5418\n",
            "Epoch 161/200\n",
            "293370/293370 [==============================] - 59s 202us/step - loss: 1.6531 - accuracy: 0.5430\n",
            "Epoch 162/200\n",
            "293370/293370 [==============================] - 59s 201us/step - loss: 1.6482 - accuracy: 0.5423\n",
            "Epoch 163/200\n",
            "293370/293370 [==============================] - 59s 201us/step - loss: 1.6497 - accuracy: 0.5430\n",
            "Epoch 164/200\n",
            "293370/293370 [==============================] - 59s 202us/step - loss: 1.6449 - accuracy: 0.5442\n",
            "Epoch 165/200\n",
            "293370/293370 [==============================] - 59s 202us/step - loss: 1.6410 - accuracy: 0.5450\n",
            "Epoch 166/200\n",
            "293370/293370 [==============================] - 59s 202us/step - loss: 1.6344 - accuracy: 0.5469\n",
            "Epoch 167/200\n",
            "293370/293370 [==============================] - 59s 202us/step - loss: 1.6371 - accuracy: 0.5450\n",
            "Epoch 168/200\n",
            "293370/293370 [==============================] - 59s 202us/step - loss: 1.6328 - accuracy: 0.5458\n",
            "Epoch 169/200\n",
            "293370/293370 [==============================] - 59s 203us/step - loss: 1.6280 - accuracy: 0.5477\n",
            "Epoch 170/200\n",
            "293370/293370 [==============================] - 59s 203us/step - loss: 1.6272 - accuracy: 0.5471\n",
            "Epoch 171/200\n",
            "293370/293370 [==============================] - 59s 203us/step - loss: 1.6226 - accuracy: 0.5485\n",
            "Epoch 172/200\n",
            "293370/293370 [==============================] - 59s 203us/step - loss: 1.6241 - accuracy: 0.5490\n",
            "Epoch 173/200\n",
            "293370/293370 [==============================] - 59s 202us/step - loss: 1.6203 - accuracy: 0.5488\n",
            "Epoch 174/200\n",
            "293370/293370 [==============================] - 59s 202us/step - loss: 1.6124 - accuracy: 0.5507\n",
            "Epoch 175/200\n",
            "293370/293370 [==============================] - 59s 202us/step - loss: 1.6164 - accuracy: 0.5486\n",
            "Epoch 176/200\n",
            "293370/293370 [==============================] - 59s 202us/step - loss: 1.6115 - accuracy: 0.5512\n",
            "Epoch 177/200\n",
            "293370/293370 [==============================] - 59s 203us/step - loss: 1.6074 - accuracy: 0.5510\n",
            "Epoch 178/200\n",
            "293370/293370 [==============================] - 59s 202us/step - loss: 1.6068 - accuracy: 0.5515\n",
            "Epoch 179/200\n",
            "293370/293370 [==============================] - 59s 202us/step - loss: 1.6001 - accuracy: 0.5524\n",
            "Epoch 180/200\n",
            "293370/293370 [==============================] - 59s 202us/step - loss: 1.6007 - accuracy: 0.5538\n",
            "Epoch 181/200\n",
            "293370/293370 [==============================] - 59s 202us/step - loss: 1.5980 - accuracy: 0.5538\n",
            "Epoch 182/200\n",
            "293370/293370 [==============================] - 59s 202us/step - loss: 1.5955 - accuracy: 0.5545\n",
            "Epoch 183/200\n",
            "293370/293370 [==============================] - 59s 202us/step - loss: 1.5929 - accuracy: 0.5543\n",
            "Epoch 184/200\n",
            "293370/293370 [==============================] - 59s 202us/step - loss: 1.5894 - accuracy: 0.5562\n",
            "Epoch 185/200\n",
            "293370/293370 [==============================] - 59s 202us/step - loss: 1.5863 - accuracy: 0.5557\n",
            "Epoch 186/200\n",
            "293370/293370 [==============================] - 59s 202us/step - loss: 1.5801 - accuracy: 0.5575\n",
            "Epoch 187/200\n",
            "293370/293370 [==============================] - 59s 202us/step - loss: 1.5783 - accuracy: 0.5580\n",
            "Epoch 188/200\n",
            "293370/293370 [==============================] - 59s 202us/step - loss: 1.5770 - accuracy: 0.5569\n",
            "Epoch 189/200\n",
            "293370/293370 [==============================] - 59s 202us/step - loss: 1.5726 - accuracy: 0.5594\n",
            "Epoch 190/200\n",
            "293370/293370 [==============================] - 59s 202us/step - loss: 1.5748 - accuracy: 0.5586\n",
            "Epoch 191/200\n",
            "293370/293370 [==============================] - 59s 202us/step - loss: 1.5724 - accuracy: 0.5595\n",
            "Epoch 192/200\n",
            "293370/293370 [==============================] - 59s 202us/step - loss: 1.5694 - accuracy: 0.5578\n",
            "Epoch 193/200\n",
            "293370/293370 [==============================] - 59s 202us/step - loss: 1.5646 - accuracy: 0.5601\n",
            "Epoch 194/200\n",
            "293370/293370 [==============================] - 59s 202us/step - loss: 1.5663 - accuracy: 0.5602\n",
            "Epoch 195/200\n",
            "293370/293370 [==============================] - 59s 202us/step - loss: 1.5618 - accuracy: 0.5614\n",
            "Epoch 196/200\n",
            "293370/293370 [==============================] - 59s 202us/step - loss: 1.5589 - accuracy: 0.5623\n",
            "Epoch 197/200\n",
            "293370/293370 [==============================] - 59s 202us/step - loss: 1.5552 - accuracy: 0.5625\n",
            "Epoch 198/200\n",
            "293370/293370 [==============================] - 59s 203us/step - loss: 1.5557 - accuracy: 0.5620\n",
            "Epoch 199/200\n",
            "293370/293370 [==============================] - 59s 202us/step - loss: 1.5512 - accuracy: 0.5638\n",
            "Epoch 200/200\n",
            "293370/293370 [==============================] - 59s 202us/step - loss: 1.5495 - accuracy: 0.5637\n"
          ],
          "name": "stdout"
        }
      ]
    },
    {
      "cell_type": "code",
      "metadata": {
        "id": "wmt5ZIKLEkX_",
        "colab_type": "code",
        "colab": {}
      },
      "source": [
        " a1 = hist.history['accuracy']\n",
        "l1 = hist.history['loss']"
      ],
      "execution_count": null,
      "outputs": []
    },
    {
      "cell_type": "code",
      "metadata": {
        "id": "AzMeAXGnJLkr",
        "colab_type": "code",
        "colab": {}
      },
      "source": [
        "a2 = hist.history['accuracy']\n",
        "l2 = hist.history['loss']"
      ],
      "execution_count": null,
      "outputs": []
    },
    {
      "cell_type": "code",
      "metadata": {
        "id": "KaE8KMcdAHBY",
        "colab_type": "code",
        "colab": {}
      },
      "source": [
        ""
      ],
      "execution_count": null,
      "outputs": []
    },
    {
      "cell_type": "code",
      "metadata": {
        "id": "w_LHDM1grN_G",
        "colab_type": "code",
        "colab": {}
      },
      "source": [
        "a3 = hist.history['accuracy']\n",
        "l3 = hist.history['loss']"
      ],
      "execution_count": null,
      "outputs": []
    },
    {
      "cell_type": "code",
      "metadata": {
        "id": "som9W-wuZH4e",
        "colab_type": "code",
        "colab": {}
      },
      "source": [
        "model.save('gruglv200')"
      ],
      "execution_count": null,
      "outputs": []
    },
    {
      "cell_type": "code",
      "metadata": {
        "id": "OcQd0LfNr2jh",
        "colab_type": "code",
        "colab": {}
      },
      "source": [
        "import matplotlib as mpl\n",
        "mpl.rcParams.update({'font.size':16})"
      ],
      "execution_count": null,
      "outputs": []
    },
    {
      "cell_type": "code",
      "metadata": {
        "id": "pZMtM1hbEe13",
        "colab_type": "code",
        "colab": {
          "base_uri": "https://localhost:8080/",
          "height": 741
        },
        "outputId": "20c4b205-4357-4596-c262-017feb41a140"
      },
      "source": [
        "plt.figure(figsize = (16,12))\n",
        "plt.plot(np.concatenate([a1]))\n",
        "plt.xlabel('Epochs')\n",
        "plt.ylabel('Accuracy')\n",
        "plt.legend(['Train'])"
      ],
      "execution_count": null,
      "outputs": [
        {
          "output_type": "execute_result",
          "data": {
            "text/plain": [
              "<matplotlib.legend.Legend at 0x7f4fe56eaa20>"
            ]
          },
          "metadata": {
            "tags": []
          },
          "execution_count": 50
        },
        {
          "output_type": "display_data",
          "data": {
            "image/png": "[encoded data removed]",
            "text/plain": [
              "<Figure size 1152x864 with 1 Axes>"
            ]
          },
          "metadata": {
            "tags": [],
            "needs_background": "light"
          }
        }
      ]
    },
    {
      "cell_type": "code",
      "metadata": {
        "id": "wtwnyj_ETdFq",
        "colab_type": "code",
        "colab": {
          "base_uri": "https://localhost:8080/",
          "height": 741
        },
        "outputId": "4320ad5c-2101-4163-e8b3-055a95e0945e"
      },
      "source": [
        "plt.figure(figsize = (16,12))\n",
        "plt.plot(np.concatenate([l1]))\n",
        "plt.xlabel('Epochs')\n",
        "plt.ylabel('Loss')\n",
        "plt.legend(['Train'])"
      ],
      "execution_count": null,
      "outputs": [
        {
          "output_type": "execute_result",
          "data": {
            "text/plain": [
              "<matplotlib.legend.Legend at 0x7f4fe566b908>"
            ]
          },
          "metadata": {
            "tags": []
          },
          "execution_count": 51
        },
        {
          "output_type": "display_data",
          "data": {
            "image/png": "[encoded data removed]",
            "text/plain": [
              "<Figure size 1152x864 with 1 Axes>"
            ]
          },
          "metadata": {
            "tags": [],
            "needs_background": "light"
          }
        }
      ]
    },
    {
      "cell_type": "code",
      "metadata": {
        "id": "VHq37-tGV9jS",
        "colab_type": "code",
        "colab": {}
      },
      "source": [
        ""
      ],
      "execution_count": null,
      "outputs": []
    }
  ]
}